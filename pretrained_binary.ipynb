{
 "cells": [
  {
   "cell_type": "code",
   "execution_count": 1,
   "metadata": {
    "_cell_guid": "b1076dfc-b9ad-4769-8c92-a6c4dae69d19",
    "_uuid": "8f2839f25d086af736a60e9eeb907d3b93b6e0e5"
   },
   "outputs": [
    {
     "name": "stderr",
     "output_type": "stream",
     "text": [
      "Using TensorFlow backend.\n",
      "/opt/conda/lib/python3.6/site-packages/tensorflow/python/framework/dtypes.py:516: FutureWarning: Passing (type, 1) or '1type' as a synonym of type is deprecated; in a future version of numpy, it will be understood as (type, (1,)) / '(1,)type'.\n",
      "  _np_qint8 = np.dtype([(\"qint8\", np.int8, 1)])\n",
      "/opt/conda/lib/python3.6/site-packages/tensorflow/python/framework/dtypes.py:517: FutureWarning: Passing (type, 1) or '1type' as a synonym of type is deprecated; in a future version of numpy, it will be understood as (type, (1,)) / '(1,)type'.\n",
      "  _np_quint8 = np.dtype([(\"quint8\", np.uint8, 1)])\n",
      "/opt/conda/lib/python3.6/site-packages/tensorflow/python/framework/dtypes.py:518: FutureWarning: Passing (type, 1) or '1type' as a synonym of type is deprecated; in a future version of numpy, it will be understood as (type, (1,)) / '(1,)type'.\n",
      "  _np_qint16 = np.dtype([(\"qint16\", np.int16, 1)])\n",
      "/opt/conda/lib/python3.6/site-packages/tensorflow/python/framework/dtypes.py:519: FutureWarning: Passing (type, 1) or '1type' as a synonym of type is deprecated; in a future version of numpy, it will be understood as (type, (1,)) / '(1,)type'.\n",
      "  _np_quint16 = np.dtype([(\"quint16\", np.uint16, 1)])\n",
      "/opt/conda/lib/python3.6/site-packages/tensorflow/python/framework/dtypes.py:520: FutureWarning: Passing (type, 1) or '1type' as a synonym of type is deprecated; in a future version of numpy, it will be understood as (type, (1,)) / '(1,)type'.\n",
      "  _np_qint32 = np.dtype([(\"qint32\", np.int32, 1)])\n",
      "/opt/conda/lib/python3.6/site-packages/tensorflow/python/framework/dtypes.py:525: FutureWarning: Passing (type, 1) or '1type' as a synonym of type is deprecated; in a future version of numpy, it will be understood as (type, (1,)) / '(1,)type'.\n",
      "  np_resource = np.dtype([(\"resource\", np.ubyte, 1)])\n",
      "/opt/conda/lib/python3.6/site-packages/tensorboard/compat/tensorflow_stub/dtypes.py:541: FutureWarning: Passing (type, 1) or '1type' as a synonym of type is deprecated; in a future version of numpy, it will be understood as (type, (1,)) / '(1,)type'.\n",
      "  _np_qint8 = np.dtype([(\"qint8\", np.int8, 1)])\n",
      "/opt/conda/lib/python3.6/site-packages/tensorboard/compat/tensorflow_stub/dtypes.py:542: FutureWarning: Passing (type, 1) or '1type' as a synonym of type is deprecated; in a future version of numpy, it will be understood as (type, (1,)) / '(1,)type'.\n",
      "  _np_quint8 = np.dtype([(\"quint8\", np.uint8, 1)])\n",
      "/opt/conda/lib/python3.6/site-packages/tensorboard/compat/tensorflow_stub/dtypes.py:543: FutureWarning: Passing (type, 1) or '1type' as a synonym of type is deprecated; in a future version of numpy, it will be understood as (type, (1,)) / '(1,)type'.\n",
      "  _np_qint16 = np.dtype([(\"qint16\", np.int16, 1)])\n",
      "/opt/conda/lib/python3.6/site-packages/tensorboard/compat/tensorflow_stub/dtypes.py:544: FutureWarning: Passing (type, 1) or '1type' as a synonym of type is deprecated; in a future version of numpy, it will be understood as (type, (1,)) / '(1,)type'.\n",
      "  _np_quint16 = np.dtype([(\"quint16\", np.uint16, 1)])\n",
      "/opt/conda/lib/python3.6/site-packages/tensorboard/compat/tensorflow_stub/dtypes.py:545: FutureWarning: Passing (type, 1) or '1type' as a synonym of type is deprecated; in a future version of numpy, it will be understood as (type, (1,)) / '(1,)type'.\n",
      "  _np_qint32 = np.dtype([(\"qint32\", np.int32, 1)])\n",
      "/opt/conda/lib/python3.6/site-packages/tensorboard/compat/tensorflow_stub/dtypes.py:550: FutureWarning: Passing (type, 1) or '1type' as a synonym of type is deprecated; in a future version of numpy, it will be understood as (type, (1,)) / '(1,)type'.\n",
      "  np_resource = np.dtype([(\"resource\", np.ubyte, 1)])\n"
     ]
    }
   ],
   "source": [
    "# This Python 3 environment comes with many helpful analytics libraries installed\n",
    "# It is defined by the kaggle/python docker image: https://github.com/kaggle/docker-python\n",
    "# For example, here's several helpful packages to load in \n",
    "\n",
    "import numpy as np # linear algebra\n",
    "import pandas as pd # data processing, CSV file I/O (e.g. pd.read_csv)\n",
    "import sklearn\n",
    "from keras_preprocessing.image import ImageDataGenerator\n",
    "from keras.layers import Dense, Activation, Flatten, Dropout, BatchNormalization,Input\n",
    "from keras.layers import Conv1D, Conv2D, MaxPooling2D,Conv2DTranspose,UpSampling2D\n",
    "from keras import regularizers, optimizers,Sequential\n",
    "# Input data files are available in the \"../input/\" directory.\n",
    "# For example, running this (by clicking run or pressing Shift+Enter) will list all files under the input directory\n",
    "import cv2\n",
    "import keras\n",
    "from sklearn.metrics import recall_score\n",
    "from tensorflow.python.keras import backend as K \n",
    "import matplotlib.pyplot as plt\n",
    "from sklearn.model_selection import train_test_split\n",
    "from tqdm import tqdm_notebook\n",
    "import os\n",
    "\n",
    "\n",
    "from keras.layers import Dense,GlobalAveragePooling2D\n",
    "from keras.applications import MobileNet\n",
    "from keras.preprocessing import image\n",
    "from keras.applications.mobilenet import preprocess_input\n",
    "from keras.models import Model\n",
    "from keras.optimizers import Adam\n",
    "from keras.applications.vgg16 import VGG16\n",
    "from keras.applications.inception_resnet_v2 import InceptionResNetV2\n",
    "#for dirname, _, filenames in os.walk('/kaggle/input'):\n",
    "#    for filename in filenames:\n",
    "#        #print(os.path.join(dirname, filename))\n",
    "#        print(dirname)\n",
    "# Any results you write to the current directory are saved as output."
   ]
  },
  {
   "cell_type": "code",
   "execution_count": 2,
   "metadata": {},
   "outputs": [
    {
     "data": {
      "text/plain": [
       "['src', 'lib', 'input', 'working']"
      ]
     },
     "execution_count": 2,
     "metadata": {},
     "output_type": "execute_result"
    }
   ],
   "source": [
    "os.listdir('/kaggle/')"
   ]
  },
  {
   "cell_type": "code",
   "execution_count": 3,
   "metadata": {},
   "outputs": [
    {
     "data": {
      "text/plain": [
       "['inceptionresnetv2', 'severstal-steel-defect-detection']"
      ]
     },
     "execution_count": 3,
     "metadata": {},
     "output_type": "execute_result"
    }
   ],
   "source": [
    "os.listdir('/kaggle/input')"
   ]
  },
  {
   "cell_type": "code",
   "execution_count": 4,
   "metadata": {},
   "outputs": [
    {
     "data": {
      "text/plain": [
       "['test_images', 'train.csv', 'sample_submission.csv', 'train_images']"
      ]
     },
     "execution_count": 4,
     "metadata": {},
     "output_type": "execute_result"
    }
   ],
   "source": [
    "os.listdir('/kaggle/input/severstal-steel-defect-detection')"
   ]
  },
  {
   "cell_type": "code",
   "execution_count": 5,
   "metadata": {},
   "outputs": [],
   "source": [
    "os.listdir('/kaggle/input/severstal-steel-defect-detection/')\n",
    "dir1='/kaggle/input/severstal-steel-defect-detection/'"
   ]
  },
  {
   "cell_type": "code",
   "execution_count": 6,
   "metadata": {},
   "outputs": [],
   "source": [
    "df=pd.read_csv(dir1+'train.csv')"
   ]
  },
  {
   "cell_type": "code",
   "execution_count": 7,
   "metadata": {},
   "outputs": [
    {
     "name": "stdout",
     "output_type": "stream",
     "text": [
      "(7204, 4)\n"
     ]
    },
    {
     "data": {
      "text/html": [
       "<div>\n",
       "<style scoped>\n",
       "    .dataframe tbody tr th:only-of-type {\n",
       "        vertical-align: middle;\n",
       "    }\n",
       "\n",
       "    .dataframe tbody tr th {\n",
       "        vertical-align: top;\n",
       "    }\n",
       "\n",
       "    .dataframe thead th {\n",
       "        text-align: right;\n",
       "    }\n",
       "</style>\n",
       "<table border=\"1\" class=\"dataframe\">\n",
       "  <thead>\n",
       "    <tr style=\"text-align: right;\">\n",
       "      <th></th>\n",
       "      <th>ImageId_ClassId</th>\n",
       "      <th>EncodedPixels</th>\n",
       "      <th>imageid</th>\n",
       "      <th>class</th>\n",
       "    </tr>\n",
       "  </thead>\n",
       "  <tbody>\n",
       "    <tr>\n",
       "      <th>0</th>\n",
       "      <td>004f40c73.jpg_1</td>\n",
       "      <td>1 1</td>\n",
       "      <td>004f40c73.jpg</td>\n",
       "      <td>1</td>\n",
       "    </tr>\n",
       "    <tr>\n",
       "      <th>1</th>\n",
       "      <td>004f40c73.jpg_2</td>\n",
       "      <td>1 1</td>\n",
       "      <td>004f40c73.jpg</td>\n",
       "      <td>2</td>\n",
       "    </tr>\n",
       "    <tr>\n",
       "      <th>2</th>\n",
       "      <td>004f40c73.jpg_3</td>\n",
       "      <td>1 1</td>\n",
       "      <td>004f40c73.jpg</td>\n",
       "      <td>3</td>\n",
       "    </tr>\n",
       "    <tr>\n",
       "      <th>3</th>\n",
       "      <td>004f40c73.jpg_4</td>\n",
       "      <td>1 1</td>\n",
       "      <td>004f40c73.jpg</td>\n",
       "      <td>4</td>\n",
       "    </tr>\n",
       "    <tr>\n",
       "      <th>4</th>\n",
       "      <td>006f39c41.jpg_1</td>\n",
       "      <td>1 1</td>\n",
       "      <td>006f39c41.jpg</td>\n",
       "      <td>1</td>\n",
       "    </tr>\n",
       "  </tbody>\n",
       "</table>\n",
       "</div>"
      ],
      "text/plain": [
       "   ImageId_ClassId EncodedPixels        imageid  class\n",
       "0  004f40c73.jpg_1           1 1  004f40c73.jpg      1\n",
       "1  004f40c73.jpg_2           1 1  004f40c73.jpg      2\n",
       "2  004f40c73.jpg_3           1 1  004f40c73.jpg      3\n",
       "3  004f40c73.jpg_4           1 1  004f40c73.jpg      4\n",
       "4  006f39c41.jpg_1           1 1  006f39c41.jpg      1"
      ]
     },
     "execution_count": 7,
     "metadata": {},
     "output_type": "execute_result"
    }
   ],
   "source": [
    "sub=pd.read_csv(dir1+'sample_submission.csv')\n",
    "sub['imageid']=sub.ImageId_ClassId.apply(lambda x: x.split('_')[0])\n",
    "sub['class']=sub.ImageId_ClassId.apply(lambda x: int(x.split('_')[1]))\n",
    "print(sub.shape)\n",
    "sub.head()\n"
   ]
  },
  {
   "cell_type": "code",
   "execution_count": 8,
   "metadata": {},
   "outputs": [
    {
     "data": {
      "text/html": [
       "<div>\n",
       "<style scoped>\n",
       "    .dataframe tbody tr th:only-of-type {\n",
       "        vertical-align: middle;\n",
       "    }\n",
       "\n",
       "    .dataframe tbody tr th {\n",
       "        vertical-align: top;\n",
       "    }\n",
       "\n",
       "    .dataframe thead th {\n",
       "        text-align: right;\n",
       "    }\n",
       "</style>\n",
       "<table border=\"1\" class=\"dataframe\">\n",
       "  <thead>\n",
       "    <tr style=\"text-align: right;\">\n",
       "      <th></th>\n",
       "      <th>ImageId_ClassId</th>\n",
       "      <th>EncodedPixels</th>\n",
       "    </tr>\n",
       "  </thead>\n",
       "  <tbody>\n",
       "    <tr>\n",
       "      <th>0</th>\n",
       "      <td>0002cc93b.jpg_1</td>\n",
       "      <td>29102 12 29346 24 29602 24 29858 24 30114 24 3...</td>\n",
       "    </tr>\n",
       "    <tr>\n",
       "      <th>1</th>\n",
       "      <td>0002cc93b.jpg_2</td>\n",
       "      <td>0</td>\n",
       "    </tr>\n",
       "    <tr>\n",
       "      <th>2</th>\n",
       "      <td>0002cc93b.jpg_3</td>\n",
       "      <td>0</td>\n",
       "    </tr>\n",
       "  </tbody>\n",
       "</table>\n",
       "</div>"
      ],
      "text/plain": [
       "   ImageId_ClassId                                      EncodedPixels\n",
       "0  0002cc93b.jpg_1  29102 12 29346 24 29602 24 29858 24 30114 24 3...\n",
       "1  0002cc93b.jpg_2                                                  0\n",
       "2  0002cc93b.jpg_3                                                  0"
      ]
     },
     "execution_count": 8,
     "metadata": {},
     "output_type": "execute_result"
    }
   ],
   "source": [
    "df.fillna(0,inplace=True)\n",
    "df.head(3)"
   ]
  },
  {
   "cell_type": "code",
   "execution_count": 9,
   "metadata": {},
   "outputs": [],
   "source": [
    "df['imageid']=df.ImageId_ClassId.apply(lambda x: x.split('_')[0])\n",
    "df['class']=df.ImageId_ClassId.apply(lambda x: x.split('_')[1])"
   ]
  },
  {
   "cell_type": "code",
   "execution_count": 10,
   "metadata": {},
   "outputs": [
    {
     "data": {
      "text/html": [
       "<div>\n",
       "<style scoped>\n",
       "    .dataframe tbody tr th:only-of-type {\n",
       "        vertical-align: middle;\n",
       "    }\n",
       "\n",
       "    .dataframe tbody tr th {\n",
       "        vertical-align: top;\n",
       "    }\n",
       "\n",
       "    .dataframe thead th {\n",
       "        text-align: right;\n",
       "    }\n",
       "</style>\n",
       "<table border=\"1\" class=\"dataframe\">\n",
       "  <thead>\n",
       "    <tr style=\"text-align: right;\">\n",
       "      <th></th>\n",
       "      <th>ImageId_ClassId</th>\n",
       "      <th>EncodedPixels</th>\n",
       "      <th>imageid</th>\n",
       "      <th>class</th>\n",
       "    </tr>\n",
       "  </thead>\n",
       "  <tbody>\n",
       "    <tr>\n",
       "      <th>0</th>\n",
       "      <td>0002cc93b.jpg_1</td>\n",
       "      <td>29102 12 29346 24 29602 24 29858 24 30114 24 3...</td>\n",
       "      <td>0002cc93b.jpg</td>\n",
       "      <td>1</td>\n",
       "    </tr>\n",
       "    <tr>\n",
       "      <th>1</th>\n",
       "      <td>0002cc93b.jpg_2</td>\n",
       "      <td>0</td>\n",
       "      <td>0002cc93b.jpg</td>\n",
       "      <td>2</td>\n",
       "    </tr>\n",
       "    <tr>\n",
       "      <th>2</th>\n",
       "      <td>0002cc93b.jpg_3</td>\n",
       "      <td>0</td>\n",
       "      <td>0002cc93b.jpg</td>\n",
       "      <td>3</td>\n",
       "    </tr>\n",
       "  </tbody>\n",
       "</table>\n",
       "</div>"
      ],
      "text/plain": [
       "   ImageId_ClassId                                      EncodedPixels  \\\n",
       "0  0002cc93b.jpg_1  29102 12 29346 24 29602 24 29858 24 30114 24 3...   \n",
       "1  0002cc93b.jpg_2                                                  0   \n",
       "2  0002cc93b.jpg_3                                                  0   \n",
       "\n",
       "         imageid class  \n",
       "0  0002cc93b.jpg     1  \n",
       "1  0002cc93b.jpg     2  \n",
       "2  0002cc93b.jpg     3  "
      ]
     },
     "execution_count": 10,
     "metadata": {},
     "output_type": "execute_result"
    }
   ],
   "source": [
    "df.head(3)"
   ]
  },
  {
   "cell_type": "code",
   "execution_count": 11,
   "metadata": {},
   "outputs": [],
   "source": [
    "count=0\n",
    "class_list=[]\n",
    "class_count=[]\n",
    "multi_class=[]\n",
    "dummy=[]\n",
    "m_class=[]\n",
    "class_1=[]\n",
    "class_2=[]\n",
    "class_3=[]\n",
    "class_4=[]\n",
    "no_class=[]\n",
    "for i in range(0,len(df['EncodedPixels']),4):\n",
    "    for k in range(0+i,4+i):\n",
    "        if(df['EncodedPixels'][k]!=0):\n",
    "            count+=1\n",
    "            dummy.append(int(df['class'][k]))\n",
    "            pass\n",
    "        if(k==i+3 and count>=1):\n",
    "            multi_class.append(dummy)\n",
    "            class_count=class_count+dummy\n",
    "            class_list.append(i)\n",
    "            A=0\n",
    "            B=0\n",
    "            C=0\n",
    "            D=0\n",
    "            for x in dummy:\n",
    "                if(x==1):A=1 \n",
    "                if(x==2):B=1 \n",
    "                if(x==3):C=1 \n",
    "                if(x==4):D=1 \n",
    "                pass\n",
    "            m_class.append([A,B,C,D])\n",
    "            if(count==1):\n",
    "                class_1.append(i)\n",
    "                pass\n",
    "            elif(count==2):\n",
    "                class_2.append(i)\n",
    "                pass\n",
    "            elif(count==3):\n",
    "                class_3.append(i)\n",
    "                pass\n",
    "            elif(count==4):\n",
    "                class_4.append(i)\n",
    "                pass\n",
    "            pass\n",
    "        elif(k==i+3 and count==0):\n",
    "            no_class.append(i)\n",
    "            \n",
    "    count=0\n",
    "    dummy=[]\n",
    "    pass\n"
   ]
  },
  {
   "cell_type": "code",
   "execution_count": 12,
   "metadata": {},
   "outputs": [
    {
     "name": "stdout",
     "output_type": "stream",
     "text": [
      "================================================================================\n",
      "0.5303946530872056 %  of the Images are Defective are\n",
      "0.46960534691279443 %  of the Images are Non-Defective are\n",
      "================================================================================\n"
     ]
    },
    {
     "data": {
      "text/html": [
       "<div>\n",
       "<style scoped>\n",
       "    .dataframe tbody tr th:only-of-type {\n",
       "        vertical-align: middle;\n",
       "    }\n",
       "\n",
       "    .dataframe tbody tr th {\n",
       "        vertical-align: top;\n",
       "    }\n",
       "\n",
       "    .dataframe thead th {\n",
       "        text-align: right;\n",
       "    }\n",
       "</style>\n",
       "<table border=\"1\" class=\"dataframe\">\n",
       "  <thead>\n",
       "    <tr style=\"text-align: right;\">\n",
       "      <th></th>\n",
       "      <th>class_types</th>\n",
       "      <th>class_count</th>\n",
       "    </tr>\n",
       "  </thead>\n",
       "  <tbody>\n",
       "    <tr>\n",
       "      <th>Defect_classes</th>\n",
       "      <td>Defect_class</td>\n",
       "      <td>6666.0</td>\n",
       "    </tr>\n",
       "    <tr>\n",
       "      <th>Non_defect_classes</th>\n",
       "      <td>Non_defect_class</td>\n",
       "      <td>5902.0</td>\n",
       "    </tr>\n",
       "  </tbody>\n",
       "</table>\n",
       "</div>"
      ],
      "text/plain": [
       "                         class_types  class_count\n",
       "Defect_classes          Defect_class       6666.0\n",
       "Non_defect_classes  Non_defect_class       5902.0"
      ]
     },
     "execution_count": 12,
     "metadata": {},
     "output_type": "execute_result"
    },
    {
     "data": {
      "image/png": "[encoded data removed]",
      "text/plain": [
       "<Figure size 648x504 with 1 Axes>"
      ]
     },
     "metadata": {
      "needs_background": "light"
     },
     "output_type": "display_data"
    }
   ],
   "source": [
    "dff=pd.DataFrame({'class_types':['Defect_class','Non_defect_class'],'class_count':[len(class_list),(len(df)/4)-len(class_list)]},index=['Defect_classes','Non_defect_classes'])\n",
    "dff.plot.barh(x='class_types',y='class_count',figsize=(9,7)).set_title('Class distrubution')\n",
    "\n",
    "print('='*80)\n",
    "\n",
    "print(len(class_list)/(len(df)/4),'%  of the Images are Defective are')\n",
    "print(1-(len(class_list)/(len(df)/4)),'%  of the Images are Non-Defective are')\n",
    "\n",
    "print('='*80)\n",
    "\n",
    "dff"
   ]
  },
  {
   "cell_type": "code",
   "execution_count": 13,
   "metadata": {},
   "outputs": [
    {
     "name": "stdout",
     "output_type": "stream",
     "text": [
      "--------------------------------------------------------------------------------\n",
      "Majority class is Class_3 with 4759 Data points\n",
      "Minority class is Class_2 with 195 Data points\n",
      "================================================================================\n",
      "================================================================================\n"
     ]
    },
    {
     "data": {
      "text/html": [
       "<div>\n",
       "<style scoped>\n",
       "    .dataframe tbody tr th:only-of-type {\n",
       "        vertical-align: middle;\n",
       "    }\n",
       "\n",
       "    .dataframe tbody tr th {\n",
       "        vertical-align: top;\n",
       "    }\n",
       "\n",
       "    .dataframe thead th {\n",
       "        text-align: right;\n",
       "    }\n",
       "</style>\n",
       "<table border=\"1\" class=\"dataframe\">\n",
       "  <thead>\n",
       "    <tr style=\"text-align: right;\">\n",
       "      <th></th>\n",
       "      <th>index</th>\n",
       "      <th>class_count</th>\n",
       "    </tr>\n",
       "  </thead>\n",
       "  <tbody>\n",
       "    <tr>\n",
       "      <th>class_1</th>\n",
       "      <td>class1_Count</td>\n",
       "      <td>769</td>\n",
       "    </tr>\n",
       "    <tr>\n",
       "      <th>class_2</th>\n",
       "      <td>class2_Count</td>\n",
       "      <td>195</td>\n",
       "    </tr>\n",
       "    <tr>\n",
       "      <th>class_3</th>\n",
       "      <td>class3_Count</td>\n",
       "      <td>4759</td>\n",
       "    </tr>\n",
       "    <tr>\n",
       "      <th>class_4</th>\n",
       "      <td>class4_Count</td>\n",
       "      <td>516</td>\n",
       "    </tr>\n",
       "  </tbody>\n",
       "</table>\n",
       "</div>"
      ],
      "text/plain": [
       "                index  class_count\n",
       "class_1  class1_Count          769\n",
       "class_2  class2_Count          195\n",
       "class_3  class3_Count         4759\n",
       "class_4  class4_Count          516"
      ]
     },
     "execution_count": 13,
     "metadata": {},
     "output_type": "execute_result"
    },
    {
     "data": {
      "image/png": "[encoded data removed]",
      "text/plain": [
       "<Figure size 648x504 with 1 Axes>"
      ]
     },
     "metadata": {},
     "output_type": "display_data"
    }
   ],
   "source": [
    "pf=pd.DataFrame({'index':['class1_Count','class2_Count','class3_Count','class4_Count'],'class_count':[multi_class.count([1]),multi_class.count([2]),multi_class.count([3]),multi_class.count([4])]},index=['class_1','class_2','class_3','class_4'])\n",
    "pf.plot.pie(x='index',y='class_count',figsize=(9,7)).set_title('Class count distrubution')\n",
    "print('-'*80)\n",
    "print('Majority class is Class_3 with',pf['class_count'].max(),'Data points')\n",
    "print('Minority class is Class_2 with',pf['class_count'].min(),'Data points')\n",
    "\n",
    "print('='*80)\n",
    "print('='*80)\n",
    "pf\n"
   ]
  },
  {
   "cell_type": "code",
   "execution_count": 14,
   "metadata": {},
   "outputs": [
    {
     "name": "stdout",
     "output_type": "stream",
     "text": [
      "+-------------+---------------+------------------------------------------+-----------------------+------------+------------+\n",
      "|     Type    | No.of.classes |                Class Id's                |       Class Data      | Total_Data | ~% of Data |\n",
      "+-------------+---------------+------------------------------------------+-----------------------+------------+------------+\n",
      "|  one class  |       4       |           [[1], [2], [3], [4]]           | [769, 195, 4759, 516] |    6239    |   49.641   |\n",
      "|  two class  |       5       | [[1, 2], [1, 3], [2, 3], [2, 4], [3, 4]] |  [35, 91, 14, 1, 284] |    425     |   3.3816   |\n",
      "| Three class |       1       |               [[1, 2, 3]]                |           2           |     2      |   0.0159   |\n",
      "|  four class |       0       |                   nan                    |          nan          |     0      |    0.0     |\n",
      "+-------------+---------------+------------------------------------------+-----------------------+------------+------------+\n"
     ]
    }
   ],
   "source": [
    "from prettytable import PrettyTable\n",
    "table=PrettyTable()\n",
    "table.field_names =[\"Type\", \"No.of.classes\",\"Class Id's\",\"Class Data\",'Total_Data','~% of Data']\n",
    "table.add_row(['one class',4,[[1],[2],[3],[4]],list(pf['class_count'].values),len(class_1),float(str(len(class_1)*100/(len(df)/4))[:6]) ])\n",
    "t=(multi_class.count([1,2])+multi_class.count([1,3])+multi_class.count([2,3])+multi_class.count([2,4])+multi_class.count([3,4]))\n",
    "table.add_row(['two class',5,[[1,2],[1,3],[2,3],[2,4],[3,4]],[multi_class.count([1,2]),multi_class.count([1,3]),multi_class.count([2,3]),multi_class.count([2,4]),multi_class.count([3,4])],t,float(str((t*100/(len(df)/4)))[:6])])\n",
    "table.add_row(['Three class',1,[[1,2,3]],len(class_3), len(class_3),float(str(len(class_3)*100/(len(df)/4))[:6])])\n",
    "table.add_row(['four class',0,np.nan,np.nan, len(class_4),float(str(len(class_4)*100/(len(df)/4))[:6])])\n",
    "print(table)"
   ]
  },
  {
   "cell_type": "code",
   "execution_count": 15,
   "metadata": {},
   "outputs": [
    {
     "name": "stdout",
     "output_type": "stream",
     "text": [
      "(12568, 2)\n"
     ]
    },
    {
     "data": {
      "text/html": [
       "<div>\n",
       "<style scoped>\n",
       "    .dataframe tbody tr th:only-of-type {\n",
       "        vertical-align: middle;\n",
       "    }\n",
       "\n",
       "    .dataframe tbody tr th {\n",
       "        vertical-align: top;\n",
       "    }\n",
       "\n",
       "    .dataframe thead th {\n",
       "        text-align: right;\n",
       "    }\n",
       "</style>\n",
       "<table border=\"1\" class=\"dataframe\">\n",
       "  <thead>\n",
       "    <tr style=\"text-align: right;\">\n",
       "      <th></th>\n",
       "      <th>imageid</th>\n",
       "      <th>binary_class</th>\n",
       "    </tr>\n",
       "  </thead>\n",
       "  <tbody>\n",
       "    <tr>\n",
       "      <th>36620</th>\n",
       "      <td>b9acd9a0f.jpg</td>\n",
       "      <td>0</td>\n",
       "    </tr>\n",
       "    <tr>\n",
       "      <th>35764</th>\n",
       "      <td>b4fb938fd.jpg</td>\n",
       "      <td>1</td>\n",
       "    </tr>\n",
       "    <tr>\n",
       "      <th>47028</th>\n",
       "      <td>eed32de1b.jpg</td>\n",
       "      <td>1</td>\n",
       "    </tr>\n",
       "    <tr>\n",
       "      <th>30440</th>\n",
       "      <td>9aec868be.jpg</td>\n",
       "      <td>0</td>\n",
       "    </tr>\n",
       "    <tr>\n",
       "      <th>9688</th>\n",
       "      <td>30c4c4c6e.jpg</td>\n",
       "      <td>0</td>\n",
       "    </tr>\n",
       "  </tbody>\n",
       "</table>\n",
       "</div>"
      ],
      "text/plain": [
       "             imageid binary_class\n",
       "36620  b9acd9a0f.jpg            0\n",
       "35764  b4fb938fd.jpg            1\n",
       "47028  eed32de1b.jpg            1\n",
       "30440  9aec868be.jpg            0\n",
       "9688   30c4c4c6e.jpg            0"
      ]
     },
     "execution_count": 15,
     "metadata": {},
     "output_type": "execute_result"
    }
   ],
   "source": [
    "id0=df.iloc[no_class, [2]]\n",
    "id1=df.iloc[class_list,[2]]\n",
    "id0['binary_class']=[0]*len(id0)\n",
    "\n",
    "id1['binary_class']=[1]*len(id1)\n",
    "df_binary=sklearn.utils.shuffle(pd.concat([id0,id1], axis=0))\n",
    "df_binary['binary_class']=df_binary['binary_class'].astype(str)\n",
    "print(df_binary.shape)\n",
    "df_binary.head()"
   ]
  },
  {
   "cell_type": "code",
   "execution_count": 16,
   "metadata": {},
   "outputs": [
    {
     "name": "stdout",
     "output_type": "stream",
     "text": [
      "(5902, 6)\n"
     ]
    },
    {
     "data": {
      "text/html": [
       "<div>\n",
       "<style scoped>\n",
       "    .dataframe tbody tr th:only-of-type {\n",
       "        vertical-align: middle;\n",
       "    }\n",
       "\n",
       "    .dataframe tbody tr th {\n",
       "        vertical-align: top;\n",
       "    }\n",
       "\n",
       "    .dataframe thead th {\n",
       "        text-align: right;\n",
       "    }\n",
       "</style>\n",
       "<table border=\"1\" class=\"dataframe\">\n",
       "  <thead>\n",
       "    <tr style=\"text-align: right;\">\n",
       "      <th></th>\n",
       "      <th>imageid</th>\n",
       "      <th>class1</th>\n",
       "      <th>class2</th>\n",
       "      <th>class3</th>\n",
       "      <th>class4</th>\n",
       "      <th>any_class</th>\n",
       "    </tr>\n",
       "  </thead>\n",
       "  <tbody>\n",
       "    <tr>\n",
       "      <th>4</th>\n",
       "      <td>00031f466.jpg</td>\n",
       "      <td>0</td>\n",
       "      <td>0</td>\n",
       "      <td>0</td>\n",
       "      <td>0</td>\n",
       "      <td>0</td>\n",
       "    </tr>\n",
       "    <tr>\n",
       "      <th>8</th>\n",
       "      <td>000418bfc.jpg</td>\n",
       "      <td>0</td>\n",
       "      <td>0</td>\n",
       "      <td>0</td>\n",
       "      <td>0</td>\n",
       "      <td>0</td>\n",
       "    </tr>\n",
       "    <tr>\n",
       "      <th>12</th>\n",
       "      <td>000789191.jpg</td>\n",
       "      <td>0</td>\n",
       "      <td>0</td>\n",
       "      <td>0</td>\n",
       "      <td>0</td>\n",
       "      <td>0</td>\n",
       "    </tr>\n",
       "    <tr>\n",
       "      <th>32</th>\n",
       "      <td>001982b08.jpg</td>\n",
       "      <td>0</td>\n",
       "      <td>0</td>\n",
       "      <td>0</td>\n",
       "      <td>0</td>\n",
       "      <td>0</td>\n",
       "    </tr>\n",
       "    <tr>\n",
       "      <th>36</th>\n",
       "      <td>001d1b355.jpg</td>\n",
       "      <td>0</td>\n",
       "      <td>0</td>\n",
       "      <td>0</td>\n",
       "      <td>0</td>\n",
       "      <td>0</td>\n",
       "    </tr>\n",
       "  </tbody>\n",
       "</table>\n",
       "</div>"
      ],
      "text/plain": [
       "          imageid  class1  class2  class3  class4 any_class\n",
       "4   00031f466.jpg       0       0       0       0         0\n",
       "8   000418bfc.jpg       0       0       0       0         0\n",
       "12  000789191.jpg       0       0       0       0         0\n",
       "32  001982b08.jpg       0       0       0       0         0\n",
       "36  001d1b355.jpg       0       0       0       0         0"
      ]
     },
     "execution_count": 16,
     "metadata": {},
     "output_type": "execute_result"
    }
   ],
   "source": [
    "df0=df.iloc[no_class, [2]]\n",
    "df0['class1']=[0]*len(id0)\n",
    "df0['class2']=[0]*len(id0)\n",
    "df0['class3']=[0]*len(id0)\n",
    "df0['class4']=[0]*len(id0)\n",
    "df0['any_class']=['0']*len(id0)\n",
    "print(df0.shape)\n",
    "df0.head()"
   ]
  },
  {
   "cell_type": "code",
   "execution_count": 17,
   "metadata": {},
   "outputs": [
    {
     "name": "stdout",
     "output_type": "stream",
     "text": [
      "(12568, 6)\n"
     ]
    },
    {
     "data": {
      "text/html": [
       "<div>\n",
       "<style scoped>\n",
       "    .dataframe tbody tr th:only-of-type {\n",
       "        vertical-align: middle;\n",
       "    }\n",
       "\n",
       "    .dataframe tbody tr th {\n",
       "        vertical-align: top;\n",
       "    }\n",
       "\n",
       "    .dataframe thead th {\n",
       "        text-align: right;\n",
       "    }\n",
       "</style>\n",
       "<table border=\"1\" class=\"dataframe\">\n",
       "  <thead>\n",
       "    <tr style=\"text-align: right;\">\n",
       "      <th></th>\n",
       "      <th>imageid</th>\n",
       "      <th>class1</th>\n",
       "      <th>class2</th>\n",
       "      <th>class3</th>\n",
       "      <th>class4</th>\n",
       "      <th>any_class</th>\n",
       "    </tr>\n",
       "  </thead>\n",
       "  <tbody>\n",
       "    <tr>\n",
       "      <th>0</th>\n",
       "      <td>0002cc93b.jpg</td>\n",
       "      <td>1</td>\n",
       "      <td>0</td>\n",
       "      <td>0</td>\n",
       "      <td>0</td>\n",
       "      <td>1</td>\n",
       "    </tr>\n",
       "    <tr>\n",
       "      <th>16</th>\n",
       "      <td>0007a71bf.jpg</td>\n",
       "      <td>0</td>\n",
       "      <td>0</td>\n",
       "      <td>1</td>\n",
       "      <td>0</td>\n",
       "      <td>1</td>\n",
       "    </tr>\n",
       "    <tr>\n",
       "      <th>20</th>\n",
       "      <td>000a4bcdd.jpg</td>\n",
       "      <td>1</td>\n",
       "      <td>0</td>\n",
       "      <td>0</td>\n",
       "      <td>0</td>\n",
       "      <td>1</td>\n",
       "    </tr>\n",
       "    <tr>\n",
       "      <th>24</th>\n",
       "      <td>000f6bf48.jpg</td>\n",
       "      <td>0</td>\n",
       "      <td>0</td>\n",
       "      <td>0</td>\n",
       "      <td>1</td>\n",
       "      <td>1</td>\n",
       "    </tr>\n",
       "    <tr>\n",
       "      <th>28</th>\n",
       "      <td>0014fce06.jpg</td>\n",
       "      <td>0</td>\n",
       "      <td>0</td>\n",
       "      <td>1</td>\n",
       "      <td>0</td>\n",
       "      <td>1</td>\n",
       "    </tr>\n",
       "  </tbody>\n",
       "</table>\n",
       "</div>"
      ],
      "text/plain": [
       "          imageid  class1  class2  class3  class4 any_class\n",
       "0   0002cc93b.jpg       1       0       0       0         1\n",
       "16  0007a71bf.jpg       0       0       1       0         1\n",
       "20  000a4bcdd.jpg       1       0       0       0         1\n",
       "24  000f6bf48.jpg       0       0       0       1         1\n",
       "28  0014fce06.jpg       0       0       1       0         1"
      ]
     },
     "execution_count": 17,
     "metadata": {},
     "output_type": "execute_result"
    }
   ],
   "source": [
    "mid=df.iloc[class_list,[2]]\n",
    "columns =['class1','class2','class3','class4']\n",
    "mulc=pd.DataFrame(m_class,columns =columns,index=mid.index)\n",
    "mulc['any_class']=[1]*len(mulc)\n",
    "mulc=pd.concat([mid,mulc], axis=1)\n",
    "mc=pd.concat([mulc,df0], axis=0)\n",
    "print(mc.shape)\n",
    "mc.head()"
   ]
  },
  {
   "cell_type": "code",
   "execution_count": 18,
   "metadata": {},
   "outputs": [],
   "source": [
    "mc['class12']=mc['class1']+mc['class2']+mc['any_class'].astype(int)"
   ]
  },
  {
   "cell_type": "code",
   "execution_count": 19,
   "metadata": {},
   "outputs": [],
   "source": [
    "bc=mc[mc['class12']!=1]"
   ]
  },
  {
   "cell_type": "code",
   "execution_count": null,
   "metadata": {},
   "outputs": [],
   "source": []
  },
  {
   "cell_type": "markdown",
   "metadata": {},
   "source": [
    "## Datagen"
   ]
  },
  {
   "cell_type": "code",
   "execution_count": 20,
   "metadata": {},
   "outputs": [],
   "source": [
    "class DataGenerator(keras.utils.Sequence):\n",
    "    'Generates data for Keras'\n",
    "    def __init__(self, list_IDs, df, target_df=None, mode='fit',\n",
    "                 base_path='../input/severstal-steel-defect-detection/train_images',\n",
    "                 batch_size=16, dim=(128, 800),preprocess=None, n_channels=3,\n",
    "                 n_classes=1, random_state=2019, shuffle=False):\n",
    "        self.dim = dim\n",
    "        self.batch_size = batch_size\n",
    "        self.df = df\n",
    "        self.mode = mode\n",
    "        self.preprocess = preprocess\n",
    "        self.base_path = base_path\n",
    "        self.target_df = target_df\n",
    "        self.list_IDs = list_IDs\n",
    "        self.n_channels = n_channels\n",
    "        self.n_classes = n_classes\n",
    "        self.shuffle = shuffle\n",
    "        self.random_state = random_state\n",
    "        self.on_epoch_end()\n",
    "    \n",
    "\n",
    "    def __len__(self):\n",
    "        'Denotes the number of batches per epoch'\n",
    "        return int(np.floor(len(self.list_IDs) / self.batch_size))\n",
    "\n",
    "    def __getitem__(self, index):\n",
    "        'Generate one batch of data'\n",
    "        # Generate indexes of the batch\n",
    "        indexes = self.indexes[index*self.batch_size:(index+1)*self.batch_size]\n",
    "        #print(indexes)\n",
    "        # Find list of IDs\n",
    "        list_IDs_batch = [self.list_IDs[k] for k in indexes]\n",
    "        \n",
    "        X = self.__generate_X(list_IDs_batch)\n",
    "        \n",
    "            \n",
    "        if self.mode == 'fit':\n",
    "            y = self.__generate_y(list_IDs_batch)\n",
    "            return X, y\n",
    "        \n",
    "        elif self.mode == 'predict':\n",
    "            return X\n",
    "\n",
    "        else:\n",
    "            raise AttributeError('The mode parameter should be set to \"fit\" or \"predict\".')\n",
    "        \n",
    "    def on_epoch_end(self):\n",
    "        'Updates indexes after each epoch'\n",
    "        self.indexes = np.arange(len(self.list_IDs))\n",
    "        if self.shuffle == True:\n",
    "            np.random.seed(self.random_state)\n",
    "            np.random.shuffle(self.indexes)\n",
    "    \n",
    "    def __generate_X(self, list_IDs_batch):\n",
    "        'Generates data containing batch_size samples'\n",
    "        # Initialization\n",
    "        X = np.empty((self.batch_size, *self.dim, self.n_channels))\n",
    "        \n",
    "        # Generate data\n",
    "        for i, ID in enumerate(list_IDs_batch):\n",
    "            #print(i,ID)\n",
    "            im_name = self.df['imageid'][ID]\n",
    "            img_path = f\"{self.base_path}/{im_name}\"\n",
    "            img = self.__load_rgb(img_path)\n",
    "            #print(im_name,img_path)\n",
    "            # Store samples\n",
    "            img = cv2.resize(img,(self.dim[1],self.dim[0]))\n",
    "            X[i,] = img \n",
    "            #print(\" X sahpe\",X.shape)\n",
    "            #print(\" img sahpe\",img.shape)\n",
    "            # normalize \n",
    "            #X = X / 255\n",
    "        if self.preprocess!=None: X = self.preprocess(X)\n",
    "\n",
    "        return X\n",
    "    \n",
    "    def __generate_y(self, list_IDs_batch):\n",
    "        y = np.empty((self.batch_size, *self.dim, self.n_classes), dtype=int)\n",
    "        \n",
    "        for i, ID in enumerate(list_IDs_batch):\n",
    "            im_name = self.df['imageid'][ID]\n",
    "            #image_df = self.target_df[self.target_df['imageid'] == im_name]\n",
    "            \n",
    "            rles = self.df['EncodedPixels'][ID]\n",
    "            h,w=self.dim\n",
    "            masks = rle_to_mask(rles, 256,1600)\n",
    "            masks = cv2.resize(masks,(self.dim[1],self.dim[0]))\n",
    "\n",
    "            #print(\" y sahpe\",y.shape)\n",
    "            #print(\" masks sahpe\",masks.shape)\n",
    "            y[i, ] = np.expand_dims(masks, -1)\n",
    "            y = (y > 0).astype(int)\n",
    "        return y \n",
    "\n",
    "        \n",
    "    \n",
    "    def __load_rgb(self, img_path):\n",
    "        img = cv2.imread(img_path)\n",
    "        img = cv2.cvtColor(img, cv2.COLOR_BGR2RGB)\n",
    "        img = img.astype(np.float32) / 255.\n",
    "\n",
    "        return img\n",
    "    \n",
    "    def __load_grayscale(self, img_path):\n",
    "        img = cv2.imread(img_path, cv2.IMREAD_GRAYSCALE)\n",
    "        img = img.astype(np.float32) / 255.\n",
    "        img = np.expand_dims(img, axis=-1)\n",
    "\n",
    "        return img"
   ]
  },
  {
   "cell_type": "markdown",
   "metadata": {},
   "source": [
    "# Binary Missing"
   ]
  },
  {
   "cell_type": "code",
   "execution_count": 21,
   "metadata": {},
   "outputs": [],
   "source": [
    "from keras import backend as K\n",
    "#https://datascience.stackexchange.com/questions/45165/how-to-get-accuracy-f1-precision-and-recall-for-a-keras-model\n",
    "#Recall shall be the model metric we use to select our best model when there is a high cost associated with False Negative.\n",
    "#TPR\n",
    "def recall(y_true, y_pred):\n",
    "        true_positives = K.sum(K.round(K.clip(y_true * y_pred, 0, 1)))\n",
    "        possible_positives = K.sum(K.round(K.clip(y_true, 0, 1)))\n",
    "        recall = true_positives / (possible_positives + K.epsilon())\n",
    "        return recall"
   ]
  },
  {
   "cell_type": "code",
   "execution_count": 22,
   "metadata": {},
   "outputs": [],
   "source": [
    "def precision(y_true, y_pred):\n",
    "        true_positives = K.sum(K.round(K.clip(y_true * y_pred, 0, 1)))\n",
    "        predicted_positives = K.sum(K.round(K.clip(y_pred, 0, 1)))\n",
    "        precision = true_positives / (predicted_positives + K.epsilon())\n",
    "        return precision"
   ]
  },
  {
   "cell_type": "code",
   "execution_count": 23,
   "metadata": {},
   "outputs": [],
   "source": [
    "binary = InceptionResNetV2(weights=None, input_shape=(299,299,3), include_top=False)\n",
    "binary.load_weights('/kaggle/input/inceptionresnetv2/inception_resnet_v2_weights_tf_dim_ordering_tf_kernels_notop.h5')\n",
    "binary.trainable=False\n",
    "\n",
    "x=binary.output\n",
    "x=GlobalAveragePooling2D()(x)\n",
    "x=Dense(128,activation='relu')(x)\n",
    "x=Dense(64,activation='relu')(x) \n",
    "out=Dense(1,activation='sigmoid')(x) #final layer \n",
    "\n",
    "clf=Model(inputs=binary.input,outputs=out)"
   ]
  },
  {
   "cell_type": "code",
   "execution_count": 24,
   "metadata": {},
   "outputs": [
    {
     "data": {
      "text/plain": [
       "'for i,layer in enumerate(clf.layers):\\n    print(i,layer.name)\\n    pass'"
      ]
     },
     "execution_count": 24,
     "metadata": {},
     "output_type": "execute_result"
    }
   ],
   "source": [
    "\"\"\"for i,layer in enumerate(clf.layers):\n",
    "    print(i,layer.name)\n",
    "    pass\"\"\""
   ]
  },
  {
   "cell_type": "code",
   "execution_count": 25,
   "metadata": {},
   "outputs": [],
   "source": [
    "clf.compile(optimizer='Adam', loss='binary_crossentropy', metrics=['accuracy',recall])\n",
    "#clf.summary()"
   ]
  },
  {
   "cell_type": "code",
   "execution_count": 26,
   "metadata": {},
   "outputs": [
    {
     "name": "stdout",
     "output_type": "stream",
     "text": [
      "train_data shape: (2445, 7) val_data: (555, 7)\n",
      "Found 2445 validated image filenames.\n",
      "Found 555 validated image filenames.\n"
     ]
    }
   ],
   "source": [
    "\n",
    "#ref:https://medium.com/@vijayabhaskar96/tutorial-on-keras-flow-from-dataframe-1fd4493d237c\n",
    "columns =['any_class']\n",
    "\n",
    "mtr_df, mval_df = train_test_split( bc[0:3000], random_state=42, test_size=0.185)\n",
    "print('train_data shape:',mtr_df.shape,'val_data:',mval_df.shape)\n",
    "\n",
    "datagen=ImageDataGenerator(rescale=1./255.,\n",
    "                           brightness_range=[0.7,1.0],\n",
    "                           rotation_range=50,\n",
    "                           horizontal_flip=True,\n",
    "                           vertical_flip=True\n",
    "                           )\n",
    "#test_datagen=ImageDataGenerator(rescale=1./255.)\n",
    "\n",
    "train_gen=datagen.flow_from_dataframe(\n",
    "dataframe=mtr_df,\n",
    "directory=dir1+\"./train_images\",\n",
    "x_col=\"imageid\",\n",
    "y_col=columns,\n",
    "batch_size=16,\n",
    "seed=42,\n",
    "shuffle=False,\n",
    "class_mode=\"other\",\n",
    "target_size=(299,299))\n",
    "\n",
    "val_gen=datagen.flow_from_dataframe(\n",
    "dataframe=mval_df,\n",
    "directory=dir1+\"./train_images\",\n",
    "x_col=\"imageid\",\n",
    "y_col=columns,\n",
    "batch_size=16,\n",
    "seed=42,\n",
    "shuffle=False,\n",
    "class_mode=\"other\",\n",
    "target_size=(299,299))\n"
   ]
  },
  {
   "cell_type": "code",
   "execution_count": 27,
   "metadata": {},
   "outputs": [
    {
     "name": "stdout",
     "output_type": "stream",
     "text": [
      "Epoch 1/10\n",
      "152/152 [==============================] - 165s 1s/step - loss: 0.4976 - acc: 0.7327 - recall: 0.6999 - val_loss: 0.9699 - val_acc: 0.6562 - val_recall: 0.3487\n",
      "Epoch 2/10\n",
      "152/152 [==============================] - 102s 668ms/step - loss: 0.4408 - acc: 0.7856 - recall: 0.7408 - val_loss: 0.4851 - val_acc: 0.8312 - val_recall: 0.7493\n",
      "Epoch 3/10\n",
      "152/152 [==============================] - 102s 670ms/step - loss: 0.3834 - acc: 0.8234 - recall: 0.8061 - val_loss: 0.6116 - val_acc: 0.7254 - val_recall: 0.3465\n",
      "Epoch 4/10\n",
      "152/152 [==============================] - 101s 665ms/step - loss: 0.3426 - acc: 0.8424 - recall: 0.8173 - val_loss: 0.7924 - val_acc: 0.6197 - val_recall: 0.0470\n",
      "Epoch 5/10\n",
      "152/152 [==============================] - 101s 664ms/step - loss: 0.3172 - acc: 0.8547 - recall: 0.8277 - val_loss: 0.6700 - val_acc: 0.7069 - val_recall: 0.2833\n",
      "Epoch 6/10\n",
      "152/152 [==============================] - 102s 668ms/step - loss: 0.2752 - acc: 0.8765 - recall: 0.8647 - val_loss: 0.6772 - val_acc: 0.7050 - val_recall: 0.2503\n",
      "Epoch 7/10\n",
      "152/152 [==============================] - 102s 671ms/step - loss: 0.2835 - acc: 0.8708 - recall: 0.8488 - val_loss: 0.4574 - val_acc: 0.7570 - val_recall: 0.3864\n",
      "Epoch 8/10\n",
      "152/152 [==============================] - 101s 668ms/step - loss: 0.2396 - acc: 0.8959 - recall: 0.8699 - val_loss: 0.2528 - val_acc: 0.8831 - val_recall: 0.7729\n",
      "Epoch 9/10\n",
      "152/152 [==============================] - 101s 668ms/step - loss: 0.2476 - acc: 0.8939 - recall: 0.8765 - val_loss: 0.9234 - val_acc: 0.7291 - val_recall: 0.3170\n",
      "Epoch 10/10\n",
      "152/152 [==============================] - 102s 670ms/step - loss: 0.2284 - acc: 0.9042 - recall: 0.8738 - val_loss: 1.2649 - val_acc: 0.7069 - val_recall: 0.2777\n"
     ]
    }
   ],
   "source": [
    "STEP_SIZE_TRAIN=train_gen.n//train_gen.batch_size\n",
    "STEP_SIZE_VALID=val_gen.n//val_gen.batch_size\n",
    "\n",
    "history1 = clf.fit_generator(train_gen,\n",
    "                              steps_per_epoch=STEP_SIZE_TRAIN,\n",
    "                              validation_data = val_gen,\n",
    "                              validation_steps=STEP_SIZE_VALID,\n",
    "                              epochs = 10, verbose=1)"
   ]
  },
  {
   "cell_type": "code",
   "execution_count": 28,
   "metadata": {},
   "outputs": [
    {
     "name": "stdout",
     "output_type": "stream",
     "text": [
      "train_data shape: (10242, 7) val_data: (2326, 7)\n",
      "Found 10242 validated image filenames.\n",
      "Found 2326 validated image filenames.\n"
     ]
    }
   ],
   "source": [
    "\n",
    "#ref:https://medium.com/@vijayabhaskar96/tutorial-on-keras-flow-from-dataframe-1fd4493d237c\n",
    "columns =['any_class']\n",
    "\n",
    "mtr_df, mval_df = train_test_split( mc, random_state=42, test_size=0.185)\n",
    "print('train_data shape:',mtr_df.shape,'val_data:',mval_df.shape)\n",
    "\n",
    "datagen=ImageDataGenerator(rescale=1./255.,\n",
    "                           brightness_range=[0.7,1.0],\n",
    "                           rotation_range=50,\n",
    "                           horizontal_flip=True,\n",
    "                           vertical_flip=True\n",
    "                           )\n",
    "#test_datagen=ImageDataGenerator(rescale=1./255.)\n",
    "\n",
    "train_gen=datagen.flow_from_dataframe(\n",
    "dataframe=mtr_df,\n",
    "directory=dir1+\"./train_images\",\n",
    "x_col=\"imageid\",\n",
    "y_col=columns,\n",
    "batch_size=16,\n",
    "seed=42,\n",
    "shuffle=False,\n",
    "class_mode=\"other\",\n",
    "target_size=(299,299))\n",
    "\n",
    "val_gen=datagen.flow_from_dataframe(\n",
    "dataframe=mval_df,\n",
    "directory=dir1+\"./train_images\",\n",
    "x_col=\"imageid\",\n",
    "y_col=columns,\n",
    "batch_size=16,\n",
    "seed=42,\n",
    "shuffle=False,\n",
    "class_mode=\"other\",\n",
    "target_size=(299,299))\n"
   ]
  },
  {
   "cell_type": "code",
   "execution_count": 29,
   "metadata": {},
   "outputs": [
    {
     "name": "stdout",
     "output_type": "stream",
     "text": [
      "Epoch 1/25\n",
      "640/640 [==============================] - 454s 710ms/step - loss: 0.3993 - acc: 0.8233 - recall: 0.8520 - val_loss: 0.4817 - val_acc: 0.7763 - val_recall: 0.6993\n",
      "Epoch 2/25\n",
      "640/640 [==============================] - 440s 688ms/step - loss: 0.3364 - acc: 0.8575 - recall: 0.8846 - val_loss: 0.3127 - val_acc: 0.8719 - val_recall: 0.8300\n",
      "Epoch 3/25\n",
      "640/640 [==============================] - 437s 682ms/step - loss: 0.2931 - acc: 0.8753 - recall: 0.8992 - val_loss: 0.4025 - val_acc: 0.8165 - val_recall: 0.7012\n",
      "Epoch 4/25\n",
      "640/640 [==============================] - 444s 694ms/step - loss: 0.2732 - acc: 0.8913 - recall: 0.9132 - val_loss: 0.2911 - val_acc: 0.8797 - val_recall: 0.8947\n",
      "Epoch 5/25\n",
      "640/640 [==============================] - 441s 689ms/step - loss: 0.2535 - acc: 0.8972 - recall: 0.9173 - val_loss: 0.2820 - val_acc: 0.8840 - val_recall: 0.8917\n",
      "Epoch 6/25\n",
      "640/640 [==============================] - 438s 684ms/step - loss: 0.2418 - acc: 0.9021 - recall: 0.9196 - val_loss: 0.2908 - val_acc: 0.8740 - val_recall: 0.8118\n",
      "Epoch 7/25\n",
      "640/640 [==============================] - 441s 690ms/step - loss: 0.2252 - acc: 0.9093 - recall: 0.9244 - val_loss: 0.2313 - val_acc: 0.9065 - val_recall: 0.8715\n",
      "Epoch 8/25\n",
      "640/640 [==============================] - 447s 698ms/step - loss: 0.2154 - acc: 0.9132 - recall: 0.9283 - val_loss: 0.2282 - val_acc: 0.9082 - val_recall: 0.8760\n",
      "Epoch 9/25\n",
      "640/640 [==============================] - 440s 688ms/step - loss: 0.2043 - acc: 0.9217 - recall: 0.9335 - val_loss: 0.2606 - val_acc: 0.9017 - val_recall: 0.9119\n",
      "Epoch 10/25\n",
      "640/640 [==============================] - 444s 693ms/step - loss: 0.1905 - acc: 0.9278 - recall: 0.9413 - val_loss: 0.2805 - val_acc: 0.8892 - val_recall: 0.8212\n",
      "Epoch 11/25\n",
      "640/640 [==============================] - 444s 694ms/step - loss: 0.1946 - acc: 0.9227 - recall: 0.9373 - val_loss: 0.2045 - val_acc: 0.9165 - val_recall: 0.8869\n",
      "Epoch 12/25\n",
      "640/640 [==============================] - 446s 696ms/step - loss: 0.1778 - acc: 0.9293 - recall: 0.9428 - val_loss: 0.2245 - val_acc: 0.9165 - val_recall: 0.9423\n",
      "Epoch 13/25\n",
      "640/640 [==============================] - 446s 697ms/step - loss: 0.1643 - acc: 0.9361 - recall: 0.9502 - val_loss: 0.2278 - val_acc: 0.9238 - val_recall: 0.9234\n",
      "Epoch 14/25\n",
      "640/640 [==============================] - 443s 692ms/step - loss: 0.1617 - acc: 0.9383 - recall: 0.9497 - val_loss: 0.2508 - val_acc: 0.9082 - val_recall: 0.8678\n",
      "Epoch 15/25\n",
      "640/640 [==============================] - 443s 692ms/step - loss: 0.1543 - acc: 0.9396 - recall: 0.9507 - val_loss: 0.2344 - val_acc: 0.9130 - val_recall: 0.8707\n",
      "Epoch 16/25\n",
      "640/640 [==============================] - 442s 691ms/step - loss: 0.1561 - acc: 0.9424 - recall: 0.9541 - val_loss: 0.1743 - val_acc: 0.9351 - val_recall: 0.9176\n",
      "Epoch 17/25\n",
      "640/640 [==============================] - 445s 695ms/step - loss: 0.1379 - acc: 0.9445 - recall: 0.9516 - val_loss: 0.2826 - val_acc: 0.9017 - val_recall: 0.9605\n",
      "Epoch 18/25\n",
      "453/640 [====================>.........] - ETA: 1:50 - loss: 0.1437 - acc: 0.9429 - recall: 0.9546"
     ]
    }
   ],
   "source": [
    "STEP_SIZE_TRAIN=train_gen.n//train_gen.batch_size\n",
    "STEP_SIZE_VALID=val_gen.n//val_gen.batch_size\n",
    "\n",
    "history1 = clf.fit_generator(train_gen,\n",
    "                              steps_per_epoch=STEP_SIZE_TRAIN,\n",
    "                              validation_data = val_gen,\n",
    "                              validation_steps=STEP_SIZE_VALID,\n",
    "                              epochs = 25, verbose=1)"
   ]
  },
  {
   "cell_type": "code",
   "execution_count": 30,
   "metadata": {},
   "outputs": [
    {
     "name": "stdout",
     "output_type": "stream",
     "text": [
      "Saved model_weights to disk\n"
     ]
    }
   ],
   "source": [
    "clf.save_weights(\"Binary_more_wc12.h5\")\n",
    "print(\"Saved model_weights to disk\")"
   ]
  }
 ],
 "metadata": {
  "kernelspec": {
   "display_name": "Python 3",
   "language": "python",
   "name": "python3"
  },
  "language_info": {
   "codemirror_mode": {
    "name": "ipython",
    "version": 3
   },
   "file_extension": ".py",
   "mimetype": "text/x-python",
   "name": "python",
   "nbconvert_exporter": "python",
   "pygments_lexer": "ipython3",
   "version": "3.6.6"
  }
 },
 "nbformat": 4,
 "nbformat_minor": 1
}
