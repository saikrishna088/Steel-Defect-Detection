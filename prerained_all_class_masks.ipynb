{
 "cells": [
  {
   "cell_type": "code",
   "execution_count": 1,
   "metadata": {
    "_cell_guid": "b1076dfc-b9ad-4769-8c92-a6c4dae69d19",
    "_uuid": "8f2839f25d086af736a60e9eeb907d3b93b6e0e5"
   },
   "outputs": [
    {
     "name": "stderr",
     "output_type": "stream",
     "text": [
      "Using TensorFlow backend.\n",
      "/opt/conda/lib/python3.6/site-packages/tensorflow/python/framework/dtypes.py:516: FutureWarning: Passing (type, 1) or '1type' as a synonym of type is deprecated; in a future version of numpy, it will be understood as (type, (1,)) / '(1,)type'.\n",
      "  _np_qint8 = np.dtype([(\"qint8\", np.int8, 1)])\n",
      "/opt/conda/lib/python3.6/site-packages/tensorflow/python/framework/dtypes.py:517: FutureWarning: Passing (type, 1) or '1type' as a synonym of type is deprecated; in a future version of numpy, it will be understood as (type, (1,)) / '(1,)type'.\n",
      "  _np_quint8 = np.dtype([(\"quint8\", np.uint8, 1)])\n",
      "/opt/conda/lib/python3.6/site-packages/tensorflow/python/framework/dtypes.py:518: FutureWarning: Passing (type, 1) or '1type' as a synonym of type is deprecated; in a future version of numpy, it will be understood as (type, (1,)) / '(1,)type'.\n",
      "  _np_qint16 = np.dtype([(\"qint16\", np.int16, 1)])\n",
      "/opt/conda/lib/python3.6/site-packages/tensorflow/python/framework/dtypes.py:519: FutureWarning: Passing (type, 1) or '1type' as a synonym of type is deprecated; in a future version of numpy, it will be understood as (type, (1,)) / '(1,)type'.\n",
      "  _np_quint16 = np.dtype([(\"quint16\", np.uint16, 1)])\n",
      "/opt/conda/lib/python3.6/site-packages/tensorflow/python/framework/dtypes.py:520: FutureWarning: Passing (type, 1) or '1type' as a synonym of type is deprecated; in a future version of numpy, it will be understood as (type, (1,)) / '(1,)type'.\n",
      "  _np_qint32 = np.dtype([(\"qint32\", np.int32, 1)])\n",
      "/opt/conda/lib/python3.6/site-packages/tensorflow/python/framework/dtypes.py:525: FutureWarning: Passing (type, 1) or '1type' as a synonym of type is deprecated; in a future version of numpy, it will be understood as (type, (1,)) / '(1,)type'.\n",
      "  np_resource = np.dtype([(\"resource\", np.ubyte, 1)])\n",
      "/opt/conda/lib/python3.6/site-packages/tensorboard/compat/tensorflow_stub/dtypes.py:541: FutureWarning: Passing (type, 1) or '1type' as a synonym of type is deprecated; in a future version of numpy, it will be understood as (type, (1,)) / '(1,)type'.\n",
      "  _np_qint8 = np.dtype([(\"qint8\", np.int8, 1)])\n",
      "/opt/conda/lib/python3.6/site-packages/tensorboard/compat/tensorflow_stub/dtypes.py:542: FutureWarning: Passing (type, 1) or '1type' as a synonym of type is deprecated; in a future version of numpy, it will be understood as (type, (1,)) / '(1,)type'.\n",
      "  _np_quint8 = np.dtype([(\"quint8\", np.uint8, 1)])\n",
      "/opt/conda/lib/python3.6/site-packages/tensorboard/compat/tensorflow_stub/dtypes.py:543: FutureWarning: Passing (type, 1) or '1type' as a synonym of type is deprecated; in a future version of numpy, it will be understood as (type, (1,)) / '(1,)type'.\n",
      "  _np_qint16 = np.dtype([(\"qint16\", np.int16, 1)])\n",
      "/opt/conda/lib/python3.6/site-packages/tensorboard/compat/tensorflow_stub/dtypes.py:544: FutureWarning: Passing (type, 1) or '1type' as a synonym of type is deprecated; in a future version of numpy, it will be understood as (type, (1,)) / '(1,)type'.\n",
      "  _np_quint16 = np.dtype([(\"quint16\", np.uint16, 1)])\n",
      "/opt/conda/lib/python3.6/site-packages/tensorboard/compat/tensorflow_stub/dtypes.py:545: FutureWarning: Passing (type, 1) or '1type' as a synonym of type is deprecated; in a future version of numpy, it will be understood as (type, (1,)) / '(1,)type'.\n",
      "  _np_qint32 = np.dtype([(\"qint32\", np.int32, 1)])\n",
      "/opt/conda/lib/python3.6/site-packages/tensorboard/compat/tensorflow_stub/dtypes.py:550: FutureWarning: Passing (type, 1) or '1type' as a synonym of type is deprecated; in a future version of numpy, it will be understood as (type, (1,)) / '(1,)type'.\n",
      "  np_resource = np.dtype([(\"resource\", np.ubyte, 1)])\n"
     ]
    }
   ],
   "source": [
    "# This Python 3 environment comes with many helpful analytics libraries installed\n",
    "# It is defined by the kaggle/python docker image: https://github.com/kaggle/docker-python\n",
    "# For example, here's several helpful packages to load in \n",
    "\n",
    "import numpy as np # linear algebra\n",
    "import pandas as pd # data processing, CSV file I/O (e.g. pd.read_csv)\n",
    "import sklearn\n",
    "from keras_preprocessing.image import ImageDataGenerator\n",
    "from keras.layers import Dense, Activation, Flatten, Dropout, BatchNormalization,Input\n",
    "from keras.layers import Conv1D, Conv2D, MaxPooling2D,Conv2DTranspose,UpSampling2D\n",
    "from keras import regularizers, optimizers,Sequential\n",
    "# Input data files are available in the \"../input/\" directory.\n",
    "# For example, running this (by clicking run or pressing Shift+Enter) will list all files under the input directory\n",
    "import cv2\n",
    "import keras\n",
    "from sklearn.metrics import recall_score\n",
    "from tensorflow.python.keras import backend as K \n",
    "import matplotlib.pyplot as plt\n",
    "from sklearn.model_selection import train_test_split\n",
    "from tqdm import tqdm_notebook\n",
    "import os\n",
    "\n",
    "\n",
    "from keras.layers import Dense,GlobalAveragePooling2D\n",
    "from keras.applications import MobileNet\n",
    "from keras.preprocessing import image\n",
    "from keras.applications.mobilenet import preprocess_input\n",
    "from keras.models import Model\n",
    "from keras.optimizers import Adam\n",
    "from keras.applications.vgg16 import VGG16\n",
    "from keras.applications.inception_resnet_v2 import InceptionResNetV2\n",
    "#for dirname, _, filenames in os.walk('/kaggle/input'):\n",
    "#    for filename in filenames:\n",
    "#        #print(os.path.join(dirname, filename))\n",
    "#        print(dirname)\n",
    "# Any results you write to the current directory are saved as output."
   ]
  },
  {
   "cell_type": "code",
   "execution_count": 2,
   "metadata": {},
   "outputs": [
    {
     "data": {
      "text/plain": [
       "['src', 'lib', 'input', 'working']"
      ]
     },
     "execution_count": 2,
     "metadata": {},
     "output_type": "execute_result"
    }
   ],
   "source": [
    "os.listdir('/kaggle/')"
   ]
  },
  {
   "cell_type": "code",
   "execution_count": 3,
   "metadata": {},
   "outputs": [
    {
     "data": {
      "text/plain": [
       "['severstal-steel-defect-detection']"
      ]
     },
     "execution_count": 3,
     "metadata": {},
     "output_type": "execute_result"
    }
   ],
   "source": [
    "os.listdir('/kaggle/input')"
   ]
  },
  {
   "cell_type": "code",
   "execution_count": 4,
   "metadata": {},
   "outputs": [
    {
     "data": {
      "text/plain": [
       "['sample_submission.csv', 'train.csv', 'train_images', 'test_images']"
      ]
     },
     "execution_count": 4,
     "metadata": {},
     "output_type": "execute_result"
    }
   ],
   "source": [
    "os.listdir('/kaggle/input/severstal-steel-defect-detection')"
   ]
  },
  {
   "cell_type": "code",
   "execution_count": 5,
   "metadata": {},
   "outputs": [],
   "source": [
    "os.listdir('/kaggle/input/severstal-steel-defect-detection/')\n",
    "dir1='/kaggle/input/severstal-steel-defect-detection/'"
   ]
  },
  {
   "cell_type": "code",
   "execution_count": 6,
   "metadata": {},
   "outputs": [],
   "source": [
    "df=pd.read_csv(dir1+'train.csv')"
   ]
  },
  {
   "cell_type": "code",
   "execution_count": 7,
   "metadata": {},
   "outputs": [
    {
     "name": "stdout",
     "output_type": "stream",
     "text": [
      "(7204, 4)\n"
     ]
    },
    {
     "data": {
      "text/html": [
       "<div>\n",
       "<style scoped>\n",
       "    .dataframe tbody tr th:only-of-type {\n",
       "        vertical-align: middle;\n",
       "    }\n",
       "\n",
       "    .dataframe tbody tr th {\n",
       "        vertical-align: top;\n",
       "    }\n",
       "\n",
       "    .dataframe thead th {\n",
       "        text-align: right;\n",
       "    }\n",
       "</style>\n",
       "<table border=\"1\" class=\"dataframe\">\n",
       "  <thead>\n",
       "    <tr style=\"text-align: right;\">\n",
       "      <th></th>\n",
       "      <th>ImageId_ClassId</th>\n",
       "      <th>EncodedPixels</th>\n",
       "      <th>imageid</th>\n",
       "      <th>class</th>\n",
       "    </tr>\n",
       "  </thead>\n",
       "  <tbody>\n",
       "    <tr>\n",
       "      <th>0</th>\n",
       "      <td>004f40c73.jpg_1</td>\n",
       "      <td>1 1</td>\n",
       "      <td>004f40c73.jpg</td>\n",
       "      <td>1</td>\n",
       "    </tr>\n",
       "    <tr>\n",
       "      <th>1</th>\n",
       "      <td>004f40c73.jpg_2</td>\n",
       "      <td>1 1</td>\n",
       "      <td>004f40c73.jpg</td>\n",
       "      <td>2</td>\n",
       "    </tr>\n",
       "    <tr>\n",
       "      <th>2</th>\n",
       "      <td>004f40c73.jpg_3</td>\n",
       "      <td>1 1</td>\n",
       "      <td>004f40c73.jpg</td>\n",
       "      <td>3</td>\n",
       "    </tr>\n",
       "    <tr>\n",
       "      <th>3</th>\n",
       "      <td>004f40c73.jpg_4</td>\n",
       "      <td>1 1</td>\n",
       "      <td>004f40c73.jpg</td>\n",
       "      <td>4</td>\n",
       "    </tr>\n",
       "    <tr>\n",
       "      <th>4</th>\n",
       "      <td>006f39c41.jpg_1</td>\n",
       "      <td>1 1</td>\n",
       "      <td>006f39c41.jpg</td>\n",
       "      <td>1</td>\n",
       "    </tr>\n",
       "  </tbody>\n",
       "</table>\n",
       "</div>"
      ],
      "text/plain": [
       "   ImageId_ClassId EncodedPixels        imageid  class\n",
       "0  004f40c73.jpg_1           1 1  004f40c73.jpg      1\n",
       "1  004f40c73.jpg_2           1 1  004f40c73.jpg      2\n",
       "2  004f40c73.jpg_3           1 1  004f40c73.jpg      3\n",
       "3  004f40c73.jpg_4           1 1  004f40c73.jpg      4\n",
       "4  006f39c41.jpg_1           1 1  006f39c41.jpg      1"
      ]
     },
     "execution_count": 7,
     "metadata": {},
     "output_type": "execute_result"
    }
   ],
   "source": [
    "sub=pd.read_csv(dir1+'sample_submission.csv')\n",
    "sub['imageid']=sub.ImageId_ClassId.apply(lambda x: x.split('_')[0])\n",
    "sub['class']=sub.ImageId_ClassId.apply(lambda x: int(x.split('_')[1]))\n",
    "print(sub.shape)\n",
    "sub.head()\n"
   ]
  },
  {
   "cell_type": "code",
   "execution_count": 8,
   "metadata": {},
   "outputs": [
    {
     "data": {
      "text/html": [
       "<div>\n",
       "<style scoped>\n",
       "    .dataframe tbody tr th:only-of-type {\n",
       "        vertical-align: middle;\n",
       "    }\n",
       "\n",
       "    .dataframe tbody tr th {\n",
       "        vertical-align: top;\n",
       "    }\n",
       "\n",
       "    .dataframe thead th {\n",
       "        text-align: right;\n",
       "    }\n",
       "</style>\n",
       "<table border=\"1\" class=\"dataframe\">\n",
       "  <thead>\n",
       "    <tr style=\"text-align: right;\">\n",
       "      <th></th>\n",
       "      <th>ImageId_ClassId</th>\n",
       "      <th>EncodedPixels</th>\n",
       "    </tr>\n",
       "  </thead>\n",
       "  <tbody>\n",
       "    <tr>\n",
       "      <th>0</th>\n",
       "      <td>0002cc93b.jpg_1</td>\n",
       "      <td>29102 12 29346 24 29602 24 29858 24 30114 24 3...</td>\n",
       "    </tr>\n",
       "    <tr>\n",
       "      <th>1</th>\n",
       "      <td>0002cc93b.jpg_2</td>\n",
       "      <td>0</td>\n",
       "    </tr>\n",
       "    <tr>\n",
       "      <th>2</th>\n",
       "      <td>0002cc93b.jpg_3</td>\n",
       "      <td>0</td>\n",
       "    </tr>\n",
       "  </tbody>\n",
       "</table>\n",
       "</div>"
      ],
      "text/plain": [
       "   ImageId_ClassId                                      EncodedPixels\n",
       "0  0002cc93b.jpg_1  29102 12 29346 24 29602 24 29858 24 30114 24 3...\n",
       "1  0002cc93b.jpg_2                                                  0\n",
       "2  0002cc93b.jpg_3                                                  0"
      ]
     },
     "execution_count": 8,
     "metadata": {},
     "output_type": "execute_result"
    }
   ],
   "source": [
    "df.fillna(0,inplace=True)\n",
    "df.head(3)"
   ]
  },
  {
   "cell_type": "code",
   "execution_count": 9,
   "metadata": {},
   "outputs": [],
   "source": [
    "df['imageid']=df.ImageId_ClassId.apply(lambda x: x.split('_')[0])\n",
    "df['class']=df.ImageId_ClassId.apply(lambda x: x.split('_')[1])"
   ]
  },
  {
   "cell_type": "code",
   "execution_count": 10,
   "metadata": {},
   "outputs": [
    {
     "data": {
      "text/html": [
       "<div>\n",
       "<style scoped>\n",
       "    .dataframe tbody tr th:only-of-type {\n",
       "        vertical-align: middle;\n",
       "    }\n",
       "\n",
       "    .dataframe tbody tr th {\n",
       "        vertical-align: top;\n",
       "    }\n",
       "\n",
       "    .dataframe thead th {\n",
       "        text-align: right;\n",
       "    }\n",
       "</style>\n",
       "<table border=\"1\" class=\"dataframe\">\n",
       "  <thead>\n",
       "    <tr style=\"text-align: right;\">\n",
       "      <th></th>\n",
       "      <th>ImageId_ClassId</th>\n",
       "      <th>EncodedPixels</th>\n",
       "      <th>imageid</th>\n",
       "      <th>class</th>\n",
       "    </tr>\n",
       "  </thead>\n",
       "  <tbody>\n",
       "    <tr>\n",
       "      <th>0</th>\n",
       "      <td>0002cc93b.jpg_1</td>\n",
       "      <td>29102 12 29346 24 29602 24 29858 24 30114 24 3...</td>\n",
       "      <td>0002cc93b.jpg</td>\n",
       "      <td>1</td>\n",
       "    </tr>\n",
       "    <tr>\n",
       "      <th>1</th>\n",
       "      <td>0002cc93b.jpg_2</td>\n",
       "      <td>0</td>\n",
       "      <td>0002cc93b.jpg</td>\n",
       "      <td>2</td>\n",
       "    </tr>\n",
       "    <tr>\n",
       "      <th>2</th>\n",
       "      <td>0002cc93b.jpg_3</td>\n",
       "      <td>0</td>\n",
       "      <td>0002cc93b.jpg</td>\n",
       "      <td>3</td>\n",
       "    </tr>\n",
       "  </tbody>\n",
       "</table>\n",
       "</div>"
      ],
      "text/plain": [
       "   ImageId_ClassId                                      EncodedPixels  \\\n",
       "0  0002cc93b.jpg_1  29102 12 29346 24 29602 24 29858 24 30114 24 3...   \n",
       "1  0002cc93b.jpg_2                                                  0   \n",
       "2  0002cc93b.jpg_3                                                  0   \n",
       "\n",
       "         imageid class  \n",
       "0  0002cc93b.jpg     1  \n",
       "1  0002cc93b.jpg     2  \n",
       "2  0002cc93b.jpg     3  "
      ]
     },
     "execution_count": 10,
     "metadata": {},
     "output_type": "execute_result"
    }
   ],
   "source": [
    "df.head(3)"
   ]
  },
  {
   "cell_type": "code",
   "execution_count": 11,
   "metadata": {},
   "outputs": [],
   "source": [
    "count=0\n",
    "class_list=[]\n",
    "class_count=[]\n",
    "multi_class=[]\n",
    "dummy=[]\n",
    "m_class=[]\n",
    "class_1=[]\n",
    "class_2=[]\n",
    "class_3=[]\n",
    "class_4=[]\n",
    "no_class=[]\n",
    "for i in range(0,len(df['EncodedPixels']),4):\n",
    "    for k in range(0+i,4+i):\n",
    "        if(df['EncodedPixels'][k]!=0):\n",
    "            count+=1\n",
    "            dummy.append(int(df['class'][k]))\n",
    "            pass\n",
    "        if(k==i+3 and count>=1):\n",
    "            multi_class.append(dummy)\n",
    "            class_count=class_count+dummy\n",
    "            class_list.append(i)\n",
    "            A=0\n",
    "            B=0\n",
    "            C=0\n",
    "            D=0\n",
    "            for x in dummy:\n",
    "                if(x==1):A=1 \n",
    "                if(x==2):B=1 \n",
    "                if(x==3):C=1 \n",
    "                if(x==4):D=1 \n",
    "                pass\n",
    "            m_class.append([A,B,C,D])\n",
    "            if(count==1):\n",
    "                class_1.append(i)\n",
    "                pass\n",
    "            elif(count==2):\n",
    "                class_2.append(i)\n",
    "                pass\n",
    "            elif(count==3):\n",
    "                class_3.append(i)\n",
    "                pass\n",
    "            elif(count==4):\n",
    "                class_4.append(i)\n",
    "                pass\n",
    "            pass\n",
    "        elif(k==i+3 and count==0):\n",
    "            no_class.append(i)\n",
    "            \n",
    "    count=0\n",
    "    dummy=[]\n",
    "    pass\n"
   ]
  },
  {
   "cell_type": "code",
   "execution_count": 12,
   "metadata": {},
   "outputs": [
    {
     "name": "stdout",
     "output_type": "stream",
     "text": [
      "================================================================================\n",
      "0.5303946530872056 %  of the Images are Defective are\n",
      "0.46960534691279443 %  of the Images are Non-Defective are\n",
      "================================================================================\n"
     ]
    },
    {
     "data": {
      "text/html": [
       "<div>\n",
       "<style scoped>\n",
       "    .dataframe tbody tr th:only-of-type {\n",
       "        vertical-align: middle;\n",
       "    }\n",
       "\n",
       "    .dataframe tbody tr th {\n",
       "        vertical-align: top;\n",
       "    }\n",
       "\n",
       "    .dataframe thead th {\n",
       "        text-align: right;\n",
       "    }\n",
       "</style>\n",
       "<table border=\"1\" class=\"dataframe\">\n",
       "  <thead>\n",
       "    <tr style=\"text-align: right;\">\n",
       "      <th></th>\n",
       "      <th>class_types</th>\n",
       "      <th>class_count</th>\n",
       "    </tr>\n",
       "  </thead>\n",
       "  <tbody>\n",
       "    <tr>\n",
       "      <th>Defect_classes</th>\n",
       "      <td>Defect_class</td>\n",
       "      <td>6666.0</td>\n",
       "    </tr>\n",
       "    <tr>\n",
       "      <th>Non_defect_classes</th>\n",
       "      <td>Non_defect_class</td>\n",
       "      <td>5902.0</td>\n",
       "    </tr>\n",
       "  </tbody>\n",
       "</table>\n",
       "</div>"
      ],
      "text/plain": [
       "                         class_types  class_count\n",
       "Defect_classes          Defect_class       6666.0\n",
       "Non_defect_classes  Non_defect_class       5902.0"
      ]
     },
     "execution_count": 12,
     "metadata": {},
     "output_type": "execute_result"
    },
    {
     "data": {
      "image/png": "[encoded data removed]",
      "text/plain": [
       "<Figure size 648x504 with 1 Axes>"
      ]
     },
     "metadata": {
      "needs_background": "light"
     },
     "output_type": "display_data"
    }
   ],
   "source": [
    "dff=pd.DataFrame({'class_types':['Defect_class','Non_defect_class'],'class_count':[len(class_list),(len(df)/4)-len(class_list)]},index=['Defect_classes','Non_defect_classes'])\n",
    "dff.plot.barh(x='class_types',y='class_count',figsize=(9,7)).set_title('Class distrubution')\n",
    "\n",
    "print('='*80)\n",
    "\n",
    "print(len(class_list)/(len(df)/4),'%  of the Images are Defective are')\n",
    "print(1-(len(class_list)/(len(df)/4)),'%  of the Images are Non-Defective are')\n",
    "\n",
    "print('='*80)\n",
    "\n",
    "dff"
   ]
  },
  {
   "cell_type": "code",
   "execution_count": 13,
   "metadata": {},
   "outputs": [
    {
     "name": "stdout",
     "output_type": "stream",
     "text": [
      "--------------------------------------------------------------------------------\n",
      "Majority class is Class_3 with 4759 Data points\n",
      "Minority class is Class_2 with 195 Data points\n",
      "================================================================================\n",
      "================================================================================\n"
     ]
    },
    {
     "data": {
      "text/html": [
       "<div>\n",
       "<style scoped>\n",
       "    .dataframe tbody tr th:only-of-type {\n",
       "        vertical-align: middle;\n",
       "    }\n",
       "\n",
       "    .dataframe tbody tr th {\n",
       "        vertical-align: top;\n",
       "    }\n",
       "\n",
       "    .dataframe thead th {\n",
       "        text-align: right;\n",
       "    }\n",
       "</style>\n",
       "<table border=\"1\" class=\"dataframe\">\n",
       "  <thead>\n",
       "    <tr style=\"text-align: right;\">\n",
       "      <th></th>\n",
       "      <th>index</th>\n",
       "      <th>class_count</th>\n",
       "    </tr>\n",
       "  </thead>\n",
       "  <tbody>\n",
       "    <tr>\n",
       "      <th>class_1</th>\n",
       "      <td>class1_Count</td>\n",
       "      <td>769</td>\n",
       "    </tr>\n",
       "    <tr>\n",
       "      <th>class_2</th>\n",
       "      <td>class2_Count</td>\n",
       "      <td>195</td>\n",
       "    </tr>\n",
       "    <tr>\n",
       "      <th>class_3</th>\n",
       "      <td>class3_Count</td>\n",
       "      <td>4759</td>\n",
       "    </tr>\n",
       "    <tr>\n",
       "      <th>class_4</th>\n",
       "      <td>class4_Count</td>\n",
       "      <td>516</td>\n",
       "    </tr>\n",
       "  </tbody>\n",
       "</table>\n",
       "</div>"
      ],
      "text/plain": [
       "                index  class_count\n",
       "class_1  class1_Count          769\n",
       "class_2  class2_Count          195\n",
       "class_3  class3_Count         4759\n",
       "class_4  class4_Count          516"
      ]
     },
     "execution_count": 13,
     "metadata": {},
     "output_type": "execute_result"
    },
    {
     "data": {
      "image/png": "[encoded data removed]",
      "text/plain": [
       "<Figure size 648x504 with 1 Axes>"
      ]
     },
     "metadata": {},
     "output_type": "display_data"
    }
   ],
   "source": [
    "pf=pd.DataFrame({'index':['class1_Count','class2_Count','class3_Count','class4_Count'],'class_count':[multi_class.count([1]),multi_class.count([2]),multi_class.count([3]),multi_class.count([4])]},index=['class_1','class_2','class_3','class_4'])\n",
    "pf.plot.pie(x='index',y='class_count',figsize=(9,7)).set_title('Class count distrubution')\n",
    "print('-'*80)\n",
    "print('Majority class is Class_3 with',pf['class_count'].max(),'Data points')\n",
    "print('Minority class is Class_2 with',pf['class_count'].min(),'Data points')\n",
    "\n",
    "print('='*80)\n",
    "print('='*80)\n",
    "pf\n"
   ]
  },
  {
   "cell_type": "code",
   "execution_count": 14,
   "metadata": {},
   "outputs": [
    {
     "name": "stdout",
     "output_type": "stream",
     "text": [
      "+-------------+---------------+------------------------------------------+-----------------------+------------+------------+\n",
      "|     Type    | No.of.classes |                Class Id's                |       Class Data      | Total_Data | ~% of Data |\n",
      "+-------------+---------------+------------------------------------------+-----------------------+------------+------------+\n",
      "|  one class  |       4       |           [[1], [2], [3], [4]]           | [769, 195, 4759, 516] |    6239    |   49.641   |\n",
      "|  two class  |       5       | [[1, 2], [1, 3], [2, 3], [2, 4], [3, 4]] |  [35, 91, 14, 1, 284] |    425     |   3.3816   |\n",
      "| Three class |       1       |               [[1, 2, 3]]                |           2           |     2      |   0.0159   |\n",
      "|  four class |       0       |                   nan                    |          nan          |     0      |    0.0     |\n",
      "+-------------+---------------+------------------------------------------+-----------------------+------------+------------+\n"
     ]
    }
   ],
   "source": [
    "from prettytable import PrettyTable\n",
    "table=PrettyTable()\n",
    "table.field_names =[\"Type\", \"No.of.classes\",\"Class Id's\",\"Class Data\",'Total_Data','~% of Data']\n",
    "table.add_row(['one class',4,[[1],[2],[3],[4]],list(pf['class_count'].values),len(class_1),float(str(len(class_1)*100/(len(df)/4))[:6]) ])\n",
    "t=(multi_class.count([1,2])+multi_class.count([1,3])+multi_class.count([2,3])+multi_class.count([2,4])+multi_class.count([3,4]))\n",
    "table.add_row(['two class',5,[[1,2],[1,3],[2,3],[2,4],[3,4]],[multi_class.count([1,2]),multi_class.count([1,3]),multi_class.count([2,3]),multi_class.count([2,4]),multi_class.count([3,4])],t,float(str((t*100/(len(df)/4)))[:6])])\n",
    "table.add_row(['Three class',1,[[1,2,3]],len(class_3), len(class_3),float(str(len(class_3)*100/(len(df)/4))[:6])])\n",
    "table.add_row(['four class',0,np.nan,np.nan, len(class_4),float(str(len(class_4)*100/(len(df)/4))[:6])])\n",
    "print(table)"
   ]
  },
  {
   "cell_type": "code",
   "execution_count": 15,
   "metadata": {},
   "outputs": [
    {
     "name": "stdout",
     "output_type": "stream",
     "text": [
      "(12568, 2)\n"
     ]
    },
    {
     "data": {
      "text/html": [
       "<div>\n",
       "<style scoped>\n",
       "    .dataframe tbody tr th:only-of-type {\n",
       "        vertical-align: middle;\n",
       "    }\n",
       "\n",
       "    .dataframe tbody tr th {\n",
       "        vertical-align: top;\n",
       "    }\n",
       "\n",
       "    .dataframe thead th {\n",
       "        text-align: right;\n",
       "    }\n",
       "</style>\n",
       "<table border=\"1\" class=\"dataframe\">\n",
       "  <thead>\n",
       "    <tr style=\"text-align: right;\">\n",
       "      <th></th>\n",
       "      <th>imageid</th>\n",
       "      <th>binary_class</th>\n",
       "    </tr>\n",
       "  </thead>\n",
       "  <tbody>\n",
       "    <tr>\n",
       "      <th>10508</th>\n",
       "      <td>351077c4c.jpg</td>\n",
       "      <td>0</td>\n",
       "    </tr>\n",
       "    <tr>\n",
       "      <th>32092</th>\n",
       "      <td>a345caa40.jpg</td>\n",
       "      <td>1</td>\n",
       "    </tr>\n",
       "    <tr>\n",
       "      <th>50256</th>\n",
       "      <td>fff02e9c5.jpg</td>\n",
       "      <td>1</td>\n",
       "    </tr>\n",
       "    <tr>\n",
       "      <th>36152</th>\n",
       "      <td>b6e3b8a8c.jpg</td>\n",
       "      <td>0</td>\n",
       "    </tr>\n",
       "    <tr>\n",
       "      <th>5364</th>\n",
       "      <td>1b213d816.jpg</td>\n",
       "      <td>1</td>\n",
       "    </tr>\n",
       "  </tbody>\n",
       "</table>\n",
       "</div>"
      ],
      "text/plain": [
       "             imageid binary_class\n",
       "10508  351077c4c.jpg            0\n",
       "32092  a345caa40.jpg            1\n",
       "50256  fff02e9c5.jpg            1\n",
       "36152  b6e3b8a8c.jpg            0\n",
       "5364   1b213d816.jpg            1"
      ]
     },
     "execution_count": 15,
     "metadata": {},
     "output_type": "execute_result"
    }
   ],
   "source": [
    "id0=df.iloc[no_class, [2]]\n",
    "id1=df.iloc[class_list,[2]]\n",
    "id0['binary_class']=[0]*len(id0)\n",
    "\n",
    "id1['binary_class']=[1]*len(id1)\n",
    "df_binary=sklearn.utils.shuffle(pd.concat([id0,id1], axis=0))\n",
    "df_binary['binary_class']=df_binary['binary_class'].astype(str)\n",
    "print(df_binary.shape)\n",
    "df_binary.head()"
   ]
  },
  {
   "cell_type": "code",
   "execution_count": 16,
   "metadata": {},
   "outputs": [
    {
     "name": "stdout",
     "output_type": "stream",
     "text": [
      "(5902, 6)\n"
     ]
    },
    {
     "data": {
      "text/html": [
       "<div>\n",
       "<style scoped>\n",
       "    .dataframe tbody tr th:only-of-type {\n",
       "        vertical-align: middle;\n",
       "    }\n",
       "\n",
       "    .dataframe tbody tr th {\n",
       "        vertical-align: top;\n",
       "    }\n",
       "\n",
       "    .dataframe thead th {\n",
       "        text-align: right;\n",
       "    }\n",
       "</style>\n",
       "<table border=\"1\" class=\"dataframe\">\n",
       "  <thead>\n",
       "    <tr style=\"text-align: right;\">\n",
       "      <th></th>\n",
       "      <th>imageid</th>\n",
       "      <th>class1</th>\n",
       "      <th>class2</th>\n",
       "      <th>class3</th>\n",
       "      <th>class4</th>\n",
       "      <th>any_class</th>\n",
       "    </tr>\n",
       "  </thead>\n",
       "  <tbody>\n",
       "    <tr>\n",
       "      <th>4</th>\n",
       "      <td>00031f466.jpg</td>\n",
       "      <td>0</td>\n",
       "      <td>0</td>\n",
       "      <td>0</td>\n",
       "      <td>0</td>\n",
       "      <td>0</td>\n",
       "    </tr>\n",
       "    <tr>\n",
       "      <th>8</th>\n",
       "      <td>000418bfc.jpg</td>\n",
       "      <td>0</td>\n",
       "      <td>0</td>\n",
       "      <td>0</td>\n",
       "      <td>0</td>\n",
       "      <td>0</td>\n",
       "    </tr>\n",
       "    <tr>\n",
       "      <th>12</th>\n",
       "      <td>000789191.jpg</td>\n",
       "      <td>0</td>\n",
       "      <td>0</td>\n",
       "      <td>0</td>\n",
       "      <td>0</td>\n",
       "      <td>0</td>\n",
       "    </tr>\n",
       "    <tr>\n",
       "      <th>32</th>\n",
       "      <td>001982b08.jpg</td>\n",
       "      <td>0</td>\n",
       "      <td>0</td>\n",
       "      <td>0</td>\n",
       "      <td>0</td>\n",
       "      <td>0</td>\n",
       "    </tr>\n",
       "    <tr>\n",
       "      <th>36</th>\n",
       "      <td>001d1b355.jpg</td>\n",
       "      <td>0</td>\n",
       "      <td>0</td>\n",
       "      <td>0</td>\n",
       "      <td>0</td>\n",
       "      <td>0</td>\n",
       "    </tr>\n",
       "  </tbody>\n",
       "</table>\n",
       "</div>"
      ],
      "text/plain": [
       "          imageid  class1  class2  class3  class4 any_class\n",
       "4   00031f466.jpg       0       0       0       0         0\n",
       "8   000418bfc.jpg       0       0       0       0         0\n",
       "12  000789191.jpg       0       0       0       0         0\n",
       "32  001982b08.jpg       0       0       0       0         0\n",
       "36  001d1b355.jpg       0       0       0       0         0"
      ]
     },
     "execution_count": 16,
     "metadata": {},
     "output_type": "execute_result"
    }
   ],
   "source": [
    "df0=df.iloc[no_class, [2]]\n",
    "df0['class1']=[0]*len(id0)\n",
    "df0['class2']=[0]*len(id0)\n",
    "df0['class3']=[0]*len(id0)\n",
    "df0['class4']=[0]*len(id0)\n",
    "df0['any_class']=['0']*len(id0)\n",
    "print(df0.shape)\n",
    "df0.head()"
   ]
  },
  {
   "cell_type": "code",
   "execution_count": 17,
   "metadata": {},
   "outputs": [
    {
     "name": "stdout",
     "output_type": "stream",
     "text": [
      "(12568, 6)\n"
     ]
    },
    {
     "data": {
      "text/html": [
       "<div>\n",
       "<style scoped>\n",
       "    .dataframe tbody tr th:only-of-type {\n",
       "        vertical-align: middle;\n",
       "    }\n",
       "\n",
       "    .dataframe tbody tr th {\n",
       "        vertical-align: top;\n",
       "    }\n",
       "\n",
       "    .dataframe thead th {\n",
       "        text-align: right;\n",
       "    }\n",
       "</style>\n",
       "<table border=\"1\" class=\"dataframe\">\n",
       "  <thead>\n",
       "    <tr style=\"text-align: right;\">\n",
       "      <th></th>\n",
       "      <th>imageid</th>\n",
       "      <th>class1</th>\n",
       "      <th>class2</th>\n",
       "      <th>class3</th>\n",
       "      <th>class4</th>\n",
       "      <th>any_class</th>\n",
       "    </tr>\n",
       "  </thead>\n",
       "  <tbody>\n",
       "    <tr>\n",
       "      <th>0</th>\n",
       "      <td>0002cc93b.jpg</td>\n",
       "      <td>1</td>\n",
       "      <td>0</td>\n",
       "      <td>0</td>\n",
       "      <td>0</td>\n",
       "      <td>1</td>\n",
       "    </tr>\n",
       "    <tr>\n",
       "      <th>16</th>\n",
       "      <td>0007a71bf.jpg</td>\n",
       "      <td>0</td>\n",
       "      <td>0</td>\n",
       "      <td>1</td>\n",
       "      <td>0</td>\n",
       "      <td>1</td>\n",
       "    </tr>\n",
       "    <tr>\n",
       "      <th>20</th>\n",
       "      <td>000a4bcdd.jpg</td>\n",
       "      <td>1</td>\n",
       "      <td>0</td>\n",
       "      <td>0</td>\n",
       "      <td>0</td>\n",
       "      <td>1</td>\n",
       "    </tr>\n",
       "    <tr>\n",
       "      <th>24</th>\n",
       "      <td>000f6bf48.jpg</td>\n",
       "      <td>0</td>\n",
       "      <td>0</td>\n",
       "      <td>0</td>\n",
       "      <td>1</td>\n",
       "      <td>1</td>\n",
       "    </tr>\n",
       "    <tr>\n",
       "      <th>28</th>\n",
       "      <td>0014fce06.jpg</td>\n",
       "      <td>0</td>\n",
       "      <td>0</td>\n",
       "      <td>1</td>\n",
       "      <td>0</td>\n",
       "      <td>1</td>\n",
       "    </tr>\n",
       "  </tbody>\n",
       "</table>\n",
       "</div>"
      ],
      "text/plain": [
       "          imageid  class1  class2  class3  class4 any_class\n",
       "0   0002cc93b.jpg       1       0       0       0         1\n",
       "16  0007a71bf.jpg       0       0       1       0         1\n",
       "20  000a4bcdd.jpg       1       0       0       0         1\n",
       "24  000f6bf48.jpg       0       0       0       1         1\n",
       "28  0014fce06.jpg       0       0       1       0         1"
      ]
     },
     "execution_count": 17,
     "metadata": {},
     "output_type": "execute_result"
    }
   ],
   "source": [
    "mid=df.iloc[class_list,[2]]\n",
    "columns =['class1','class2','class3','class4']\n",
    "mulc=pd.DataFrame(m_class,columns =columns,index=mid.index)\n",
    "mulc['any_class']=[1]*len(mulc)\n",
    "mulc=pd.concat([mid,mulc], axis=1)\n",
    "mc=pd.concat([mulc,df0], axis=0)\n",
    "print(mc.shape)\n",
    "mc.head()"
   ]
  },
  {
   "cell_type": "code",
   "execution_count": 18,
   "metadata": {},
   "outputs": [
    {
     "data": {
      "text/plain": [
       "1    6666\n",
       "0    5902\n",
       "Name: any_class, dtype: int64"
      ]
     },
     "execution_count": 18,
     "metadata": {},
     "output_type": "execute_result"
    }
   ],
   "source": [
    "mc['any_class'].value_counts()"
   ]
  },
  {
   "cell_type": "markdown",
   "metadata": {},
   "source": [
    "### Datagen"
   ]
  },
  {
   "cell_type": "code",
   "execution_count": 19,
   "metadata": {},
   "outputs": [],
   "source": [
    "class DataGenerator(keras.utils.Sequence):\n",
    "    'Generates data for Keras'\n",
    "    def __init__(self, list_IDs, df, target_df=None, mode='fit',\n",
    "                 base_path='../input/severstal-steel-defect-detection/train_images',\n",
    "                 batch_size=16, dim=(128, 800),preprocess=None, n_channels=3,\n",
    "                 n_classes=1, random_state=2019, shuffle=False):\n",
    "        self.dim = dim\n",
    "        self.batch_size = batch_size\n",
    "        self.df = df\n",
    "        self.mode = mode\n",
    "        self.preprocess = preprocess\n",
    "        self.base_path = base_path\n",
    "        self.target_df = target_df\n",
    "        self.list_IDs = list_IDs\n",
    "        self.n_channels = n_channels\n",
    "        self.n_classes = n_classes\n",
    "        self.shuffle = shuffle\n",
    "        self.random_state = random_state\n",
    "        self.on_epoch_end()\n",
    "    \n",
    "\n",
    "    def __len__(self):\n",
    "        'Denotes the number of batches per epoch'\n",
    "        return int(np.floor(len(self.list_IDs) / self.batch_size))\n",
    "\n",
    "    def __getitem__(self, index):\n",
    "        'Generate one batch of data'\n",
    "        # Generate indexes of the batch\n",
    "        indexes = self.indexes[index*self.batch_size:(index+1)*self.batch_size]\n",
    "        #print(indexes)\n",
    "        # Find list of IDs\n",
    "        list_IDs_batch = [self.list_IDs[k] for k in indexes]\n",
    "        \n",
    "        X = self.__generate_X(list_IDs_batch)\n",
    "        \n",
    "            \n",
    "        if self.mode == 'fit':\n",
    "            y = self.__generate_y(list_IDs_batch)\n",
    "            return X, y\n",
    "        \n",
    "        elif self.mode == 'predict':\n",
    "            return X\n",
    "\n",
    "        else:\n",
    "            raise AttributeError('The mode parameter should be set to \"fit\" or \"predict\".')\n",
    "        \n",
    "    def on_epoch_end(self):\n",
    "        'Updates indexes after each epoch'\n",
    "        self.indexes = np.arange(len(self.list_IDs))\n",
    "        if self.shuffle == True:\n",
    "            np.random.seed(self.random_state)\n",
    "            np.random.shuffle(self.indexes)\n",
    "    \n",
    "    def __generate_X(self, list_IDs_batch):\n",
    "        'Generates data containing batch_size samples'\n",
    "        # Initialization\n",
    "        X = np.empty((self.batch_size, *self.dim, self.n_channels))\n",
    "        \n",
    "        # Generate data\n",
    "        for i, ID in enumerate(list_IDs_batch):\n",
    "            #print(i,ID)\n",
    "            im_name = self.df['imageid'][ID]\n",
    "            img_path = f\"{self.base_path}/{im_name}\"\n",
    "            img = self.__load_rgb(img_path)\n",
    "            #print(im_name,img_path)\n",
    "            # Store samples\n",
    "            img = cv2.resize(img,(800,128))\n",
    "            X[i,] = img \n",
    "            #print(\" X sahpe\",X.shape)\n",
    "            #print(\" img sahpe\",img.shape)\n",
    "            # normalize \n",
    "            #X = X / 255\n",
    "        if self.preprocess!=None: X = self.preprocess(X)\n",
    "\n",
    "        return X\n",
    "    \n",
    "    def __generate_y(self, list_IDs_batch):\n",
    "        y = np.empty((self.batch_size, *self.dim, self.n_classes), dtype=int)\n",
    "        \n",
    "        for i, ID in enumerate(list_IDs_batch):\n",
    "            im_name = self.df['imageid'][ID]\n",
    "            #image_df = self.target_df[self.target_df['imageid'] == im_name]\n",
    "            \n",
    "            rles = self.df['EncodedPixels'][ID]\n",
    "            h,w=self.dim\n",
    "            masks = rle_to_mask(rles, 256,1600)\n",
    "            masks = cv2.resize(masks,(800,128))\n",
    "\n",
    "            #print(\" y sahpe\",y.shape)\n",
    "            #print(\" masks sahpe\",masks.shape)\n",
    "            y[i, ] = np.expand_dims(masks, -1)\n",
    "            y = (y > 0).astype(int)\n",
    "        return y \n",
    "\n",
    "        \n",
    "    \n",
    "    def __load_rgb(self, img_path):\n",
    "        img = cv2.imread(img_path)\n",
    "        img = cv2.cvtColor(img, cv2.COLOR_BGR2RGB)\n",
    "        img = img.astype(np.float32) / 255.\n",
    "\n",
    "        return img\n",
    "    \n",
    "    def __load_grayscale(self, img_path):\n",
    "        img = cv2.imread(img_path, cv2.IMREAD_GRAYSCALE)\n",
    "        img = img.astype(np.float32) / 255.\n",
    "        img = np.expand_dims(img, axis=-1)\n",
    "\n",
    "        return img"
   ]
  },
  {
   "cell_type": "markdown",
   "metadata": {},
   "source": [
    "# Binary Missing"
   ]
  },
  {
   "cell_type": "code",
   "execution_count": 20,
   "metadata": {},
   "outputs": [],
   "source": [
    "from keras import backend as K\n",
    "#https://datascience.stackexchange.com/questions/45165/how-to-get-accuracy-f1-precision-and-recall-for-a-keras-model\n",
    "#Recall shall be the model metric we use to select our best model when there is a high cost associated with False Negative.\n",
    "#TPR\n",
    "def recall(y_true, y_pred):\n",
    "        true_positives = K.sum(K.round(K.clip(y_true * y_pred, 0, 1)))\n",
    "        possible_positives = K.sum(K.round(K.clip(y_true, 0, 1)))\n",
    "        recall = true_positives / (possible_positives + K.epsilon())\n",
    "        return recall"
   ]
  },
  {
   "cell_type": "code",
   "execution_count": 21,
   "metadata": {},
   "outputs": [],
   "source": [
    "def precision(y_true, y_pred):\n",
    "        true_positives = K.sum(K.round(K.clip(y_true * y_pred, 0, 1)))\n",
    "        predicted_positives = K.sum(K.round(K.clip(y_pred, 0, 1)))\n",
    "        precision = true_positives / (predicted_positives + K.epsilon())\n",
    "        return precision"
   ]
  },
  {
   "cell_type": "markdown",
   "metadata": {},
   "source": [
    "## Multi missing"
   ]
  },
  {
   "cell_type": "markdown",
   "metadata": {},
   "source": [
    " ##  mask pred"
   ]
  },
  {
   "cell_type": "markdown",
   "metadata": {},
   "source": [
    "### Data"
   ]
  },
  {
   "cell_type": "code",
   "execution_count": 22,
   "metadata": {},
   "outputs": [
    {
     "name": "stdout",
     "output_type": "stream",
     "text": [
      "shape of dataframe: (7095, 7)\n"
     ]
    },
    {
     "data": {
      "text/html": [
       "<div>\n",
       "<style scoped>\n",
       "    .dataframe tbody tr th:only-of-type {\n",
       "        vertical-align: middle;\n",
       "    }\n",
       "\n",
       "    .dataframe tbody tr th {\n",
       "        vertical-align: top;\n",
       "    }\n",
       "\n",
       "    .dataframe thead th {\n",
       "        text-align: right;\n",
       "    }\n",
       "</style>\n",
       "<table border=\"1\" class=\"dataframe\">\n",
       "  <thead>\n",
       "    <tr style=\"text-align: right;\">\n",
       "      <th></th>\n",
       "      <th>imageid</th>\n",
       "      <th>EncodedPixels</th>\n",
       "      <th>class</th>\n",
       "      <th>class1</th>\n",
       "      <th>class2</th>\n",
       "      <th>class3</th>\n",
       "      <th>class4</th>\n",
       "    </tr>\n",
       "  </thead>\n",
       "  <tbody>\n",
       "    <tr>\n",
       "      <th>0</th>\n",
       "      <td>0002cc93b.jpg</td>\n",
       "      <td>29102 12 29346 24 29602 24 29858 24 30114 24 3...</td>\n",
       "      <td>1</td>\n",
       "      <td>1</td>\n",
       "      <td>0</td>\n",
       "      <td>0</td>\n",
       "      <td>0</td>\n",
       "    </tr>\n",
       "    <tr>\n",
       "      <th>18</th>\n",
       "      <td>0007a71bf.jpg</td>\n",
       "      <td>18661 28 18863 82 19091 110 19347 110 19603 11...</td>\n",
       "      <td>3</td>\n",
       "      <td>0</td>\n",
       "      <td>0</td>\n",
       "      <td>1</td>\n",
       "      <td>0</td>\n",
       "    </tr>\n",
       "    <tr>\n",
       "      <th>20</th>\n",
       "      <td>000a4bcdd.jpg</td>\n",
       "      <td>37607 3 37858 8 38108 14 38359 20 38610 25 388...</td>\n",
       "      <td>1</td>\n",
       "      <td>1</td>\n",
       "      <td>0</td>\n",
       "      <td>0</td>\n",
       "      <td>0</td>\n",
       "    </tr>\n",
       "    <tr>\n",
       "      <th>27</th>\n",
       "      <td>000f6bf48.jpg</td>\n",
       "      <td>131973 1 132228 4 132483 6 132738 8 132993 11 ...</td>\n",
       "      <td>4</td>\n",
       "      <td>0</td>\n",
       "      <td>0</td>\n",
       "      <td>0</td>\n",
       "      <td>1</td>\n",
       "    </tr>\n",
       "    <tr>\n",
       "      <th>30</th>\n",
       "      <td>0014fce06.jpg</td>\n",
       "      <td>229501 11 229741 33 229981 55 230221 77 230468...</td>\n",
       "      <td>3</td>\n",
       "      <td>0</td>\n",
       "      <td>0</td>\n",
       "      <td>1</td>\n",
       "      <td>0</td>\n",
       "    </tr>\n",
       "  </tbody>\n",
       "</table>\n",
       "</div>"
      ],
      "text/plain": [
       "          imageid                                      EncodedPixels class  \\\n",
       "0   0002cc93b.jpg  29102 12 29346 24 29602 24 29858 24 30114 24 3...     1   \n",
       "18  0007a71bf.jpg  18661 28 18863 82 19091 110 19347 110 19603 11...     3   \n",
       "20  000a4bcdd.jpg  37607 3 37858 8 38108 14 38359 20 38610 25 388...     1   \n",
       "27  000f6bf48.jpg  131973 1 132228 4 132483 6 132738 8 132993 11 ...     4   \n",
       "30  0014fce06.jpg  229501 11 229741 33 229981 55 230221 77 230468...     3   \n",
       "\n",
       "    class1  class2  class3  class4  \n",
       "0        1       0       0       0  \n",
       "18       0       0       1       0  \n",
       "20       1       0       0       0  \n",
       "27       0       0       0       1  \n",
       "30       0       0       1       0  "
      ]
     },
     "execution_count": 22,
     "metadata": {},
     "output_type": "execute_result"
    }
   ],
   "source": [
    "#This dataframe is for prediction\n",
    "nf=df[['imageid','EncodedPixels','class']][df['EncodedPixels']!=0]\n",
    "nf['class1']=nf['class'].apply(lambda c:1 if int(c)==1 else 0)\n",
    "nf['class2']=nf['class'].apply(lambda c:1 if int(c)==2 else 0)\n",
    "nf['class3']=nf['class'].apply(lambda c:1 if int(c)==3 else 0)\n",
    "nf['class4']=nf['class'].apply(lambda c:1 if int(c)==4 else 0)\n",
    "print(\"shape of dataframe:\",nf.shape)\n",
    "nf.head()"
   ]
  },
  {
   "cell_type": "code",
   "execution_count": 23,
   "metadata": {},
   "outputs": [
    {
     "name": "stdout",
     "output_type": "stream",
     "text": [
      "Class1 data shape (897, 7)\n",
      "Class2 data shape (247, 7)\n",
      "Class3 data shape (5150, 7)\n",
      "Class4 data shape (801, 7)\n"
     ]
    }
   ],
   "source": [
    "c1=nf[nf['class1']!=0]\n",
    "c2=nf[nf['class2']!=0]\n",
    "c3=nf[nf['class3']!=0]\n",
    "c4=nf[nf['class4']!=0]\n",
    "print(\"Class1 data shape\",c1.shape)\n",
    "print(\"Class2 data shape\",c2.shape)\n",
    "print(\"Class3 data shape\",c3.shape)\n",
    "print(\"Class4 data shape\",c4.shape)"
   ]
  },
  {
   "cell_type": "code",
   "execution_count": 24,
   "metadata": {},
   "outputs": [
    {
     "name": "stdout",
     "output_type": "stream",
     "text": [
      "Collecting segmentation-models\r\n",
      "\u001b[?25l  Downloading https://files.pythonhosted.org/packages/10/bf/253c8834014a834cacf2384c72872167fb30ccae7a56c6ce46285b03245c/segmentation_models-0.2.1-py2.py3-none-any.whl (44kB)\r\n",
      "\u001b[K     |████████████████████████████████| 51kB 2.0MB/s \r\n",
      "\u001b[?25hRequirement already satisfied: keras>=2.2.0 in /opt/conda/lib/python3.6/site-packages (from segmentation-models) (2.2.4)\r\n",
      "Requirement already satisfied: keras-applications>=1.0.7 in /opt/conda/lib/python3.6/site-packages (from segmentation-models) (1.0.8)\r\n",
      "Collecting image-classifiers==0.2.0 (from segmentation-models)\r\n",
      "\u001b[?25l  Downloading https://files.pythonhosted.org/packages/de/32/a1e74e03f74506d1e4b46bb2732ca5a7b18ac52a36b5e3547e63537ce74c/image_classifiers-0.2.0-py2.py3-none-any.whl (76kB)\r\n",
      "\u001b[K     |████████████████████████████████| 81kB 6.1MB/s \r\n",
      "\u001b[?25hRequirement already satisfied: scikit-image in /opt/conda/lib/python3.6/site-packages (from segmentation-models) (0.15.0)\r\n",
      "Requirement already satisfied: keras-preprocessing>=1.0.5 in /opt/conda/lib/python3.6/site-packages (from keras>=2.2.0->segmentation-models) (1.1.0)\r\n",
      "Requirement already satisfied: h5py in /opt/conda/lib/python3.6/site-packages (from keras>=2.2.0->segmentation-models) (2.9.0)\r\n",
      "Requirement already satisfied: numpy>=1.9.1 in /opt/conda/lib/python3.6/site-packages (from keras>=2.2.0->segmentation-models) (1.17.0)\r\n",
      "Requirement already satisfied: scipy>=0.14 in /opt/conda/lib/python3.6/site-packages (from keras>=2.2.0->segmentation-models) (1.2.1)\r\n",
      "Requirement already satisfied: pyyaml in /opt/conda/lib/python3.6/site-packages (from keras>=2.2.0->segmentation-models) (5.1.2)\r\n",
      "Requirement already satisfied: six>=1.9.0 in /opt/conda/lib/python3.6/site-packages (from keras>=2.2.0->segmentation-models) (1.12.0)\r\n",
      "Requirement already satisfied: imageio>=2.0.1 in /opt/conda/lib/python3.6/site-packages (from scikit-image->segmentation-models) (2.5.0)\r\n",
      "Requirement already satisfied: matplotlib!=3.0.0,>=2.0.0 in /opt/conda/lib/python3.6/site-packages (from scikit-image->segmentation-models) (3.0.3)\r\n",
      "Requirement already satisfied: pillow>=4.3.0 in /opt/conda/lib/python3.6/site-packages (from scikit-image->segmentation-models) (5.4.1)\r\n",
      "Requirement already satisfied: networkx>=2.0 in /opt/conda/lib/python3.6/site-packages (from scikit-image->segmentation-models) (2.3)\r\n",
      "Requirement already satisfied: PyWavelets>=0.4.0 in /opt/conda/lib/python3.6/site-packages (from scikit-image->segmentation-models) (1.0.3)\r\n",
      "Requirement already satisfied: cycler>=0.10 in /opt/conda/lib/python3.6/site-packages (from matplotlib!=3.0.0,>=2.0.0->scikit-image->segmentation-models) (0.10.0)\r\n",
      "Requirement already satisfied: kiwisolver>=1.0.1 in /opt/conda/lib/python3.6/site-packages (from matplotlib!=3.0.0,>=2.0.0->scikit-image->segmentation-models) (1.1.0)\r\n",
      "Requirement already satisfied: pyparsing!=2.0.4,!=2.1.2,!=2.1.6,>=2.0.1 in /opt/conda/lib/python3.6/site-packages (from matplotlib!=3.0.0,>=2.0.0->scikit-image->segmentation-models) (2.4.2)\r\n",
      "Requirement already satisfied: python-dateutil>=2.1 in /opt/conda/lib/python3.6/site-packages (from matplotlib!=3.0.0,>=2.0.0->scikit-image->segmentation-models) (2.8.0)\r\n",
      "Requirement already satisfied: decorator>=4.3.0 in /opt/conda/lib/python3.6/site-packages (from networkx>=2.0->scikit-image->segmentation-models) (4.4.0)\r\n",
      "Requirement already satisfied: setuptools in /opt/conda/lib/python3.6/site-packages (from kiwisolver>=1.0.1->matplotlib!=3.0.0,>=2.0.0->scikit-image->segmentation-models) (41.0.1)\r\n",
      "Installing collected packages: image-classifiers, segmentation-models\r\n",
      "Successfully installed image-classifiers-0.2.0 segmentation-models-0.2.1\r\n",
      "Note: you may need to restart the kernel to use updated packages.\n"
     ]
    }
   ],
   "source": [
    "pip install segmentation-models"
   ]
  },
  {
   "cell_type": "code",
   "execution_count": 25,
   "metadata": {},
   "outputs": [
    {
     "name": "stderr",
     "output_type": "stream",
     "text": [
      "/opt/conda/lib/python3.6/site-packages/classification_models/resnext/__init__.py:4: UserWarning: Current ResNext models are deprecated, use keras.applications ResNeXt models\n",
      "  warnings.warn('Current ResNext models are deprecated, '\n"
     ]
    }
   ],
   "source": [
    "from segmentation_models import Unet\n",
    "from segmentation_models.backbones import get_preprocessing\n",
    "#model = Unet('resnet34')"
   ]
  },
  {
   "cell_type": "code",
   "execution_count": 26,
   "metadata": {},
   "outputs": [
    {
     "ename": "NameError",
     "evalue": "name 'model' is not defined",
     "output_type": "error",
     "traceback": [
      "\u001b[0;31m---------------------------------------------------------------------------\u001b[0m",
      "\u001b[0;31mNameError\u001b[0m                                 Traceback (most recent call last)",
      "\u001b[0;32m<ipython-input-26-33fbe0880974>\u001b[0m in \u001b[0;36m<module>\u001b[0;34m\u001b[0m\n\u001b[0;32m----> 1\u001b[0;31m \u001b[0;32mfor\u001b[0m \u001b[0mi\u001b[0m\u001b[0;34m,\u001b[0m\u001b[0mlayer\u001b[0m \u001b[0;32min\u001b[0m \u001b[0menumerate\u001b[0m\u001b[0;34m(\u001b[0m\u001b[0mmodel\u001b[0m\u001b[0;34m.\u001b[0m\u001b[0mlayers\u001b[0m\u001b[0;34m)\u001b[0m\u001b[0;34m:\u001b[0m\u001b[0;34m\u001b[0m\u001b[0m\n\u001b[0m\u001b[1;32m      2\u001b[0m     \u001b[0mprint\u001b[0m\u001b[0;34m(\u001b[0m\u001b[0mi\u001b[0m\u001b[0;34m,\u001b[0m\u001b[0mlayer\u001b[0m\u001b[0;34m.\u001b[0m\u001b[0mname\u001b[0m\u001b[0;34m)\u001b[0m\u001b[0;34m\u001b[0m\u001b[0m\n\u001b[1;32m      3\u001b[0m     \u001b[0;32mpass\u001b[0m\u001b[0;34m\u001b[0m\u001b[0m\n",
      "\u001b[0;31mNameError\u001b[0m: name 'model' is not defined"
     ]
    }
   ],
   "source": [
    "for i,layer in enumerate(model.layers):\n",
    "    print(i,layer.name)\n",
    "    pass"
   ]
  },
  {
   "cell_type": "code",
   "execution_count": 27,
   "metadata": {},
   "outputs": [],
   "source": [
    "# LOAD UNET WITH PRETRAINING FROM IMAGENET\n",
    "preprocess = get_preprocessing('resnet50') # for resnet, img = (img-110.0)/1.0\n",
    "#model = Unet('resnet34', input_shape=(128, 800, 3), classes=1, activation='sigmoid')"
   ]
  },
  {
   "cell_type": "code",
   "execution_count": 28,
   "metadata": {},
   "outputs": [],
   "source": [
    "def rle_to_mask(rle_string, height, width):\n",
    "    \n",
    "    rows, cols = height, width\n",
    "    img = np.zeros(rows * cols, dtype=np.uint8)\n",
    "    if len(str(rle_string)) > 1:\n",
    "        rle_numbers = [int(numstring) for numstring in rle_string.split(' ')]\n",
    "        rle_pairs = np.array(rle_numbers).reshape(-1, 2)\n",
    "        for index, length in rle_pairs:\n",
    "            index -= 1\n",
    "            img[index:index+length] = 255\n",
    "    else: img = np.zeros(cols*rows)\n",
    "    img = img.reshape(cols, rows)\n",
    "    img = img.T\n",
    "    return img\n",
    "\n",
    "\n",
    "def mask_to_rle(mask):\n",
    "    '''\n",
    "    Convert a mask into RLE\n",
    "    \n",
    "    Parameters: \n",
    "    mask (numpy.array): binary mask of numpy array where 1 - mask, 0 - background\n",
    "\n",
    "    Returns: \n",
    "    sring: run length encoding \n",
    "    '''\n",
    "    pixels= mask.T.flatten()\n",
    "    pixels = np.concatenate([[0], pixels, [0]])\n",
    "    runs = np.where(pixels[1:] != pixels[:-1])[0] + 1\n",
    "    runs[1::2] -= runs[::2]\n",
    "    return ' '.join(str(x) for x in runs)"
   ]
  },
  {
   "cell_type": "code",
   "execution_count": 29,
   "metadata": {},
   "outputs": [],
   "source": [
    "'metric and loss function for evaluation'\n",
    "def dice_coef(y_true, y_pred, smooth=1):\n",
    "    y_true_f = K.flatten(y_true)\n",
    "    y_pred_f = K.flatten(y_pred)\n",
    "    intersection = K.sum(y_true_f * y_pred_f)\n",
    "    return (2 * intersection + smooth) / (K.sum(y_true_f) + K.sum(y_pred_f) + smooth)\n",
    "\n",
    "def loss_dice_coef(y_true, y_pred, smooth=1):\n",
    "    y_true_f = K.flatten(y_true)\n",
    "    y_pred_f = K.flatten(y_pred)\n",
    "    intersection = K.sum(y_true_f * y_pred_f)\n",
    "    return -K.log((2 * intersection + smooth) / (K.sum(y_true_f) + K.sum(y_pred_f) + smooth))"
   ]
  },
  {
   "cell_type": "code",
   "execution_count": 30,
   "metadata": {},
   "outputs": [],
   "source": [
    "def load(BATCH_SIZE,index_df,dff,dimn):\n",
    "    \n",
    "    train_idx, val_idx = train_test_split(\n",
    "    index_df.index,  # Index matters for each prediction class\n",
    "    random_state=2019, \n",
    "    test_size=0.15)\n",
    "\n",
    "    train_generator = DataGenerator(\n",
    "        train_idx, \n",
    "        df=dff,\n",
    "        dim=dimn,\n",
    "        batch_size=BATCH_SIZE, \n",
    "        n_classes=1)\n",
    "\n",
    "    val_generator = DataGenerator(\n",
    "        val_idx, \n",
    "        df=nf,\n",
    "        dim=dimn,\n",
    "        batch_size=BATCH_SIZE, \n",
    "        n_classes=1)\n",
    "    \n",
    "    \n",
    "    return train_generator,val_generator"
   ]
  },
  {
   "cell_type": "code",
   "execution_count": 31,
   "metadata": {},
   "outputs": [],
   "source": [
    "#Load data\n",
    "trainc1,valc1=load(32,c1,nf,dimn=(128,800))\n"
   ]
  },
  {
   "cell_type": "code",
   "execution_count": 32,
   "metadata": {},
   "outputs": [],
   "source": [
    "# LOAD UNET WITH PRETRAINING FROM IMAGENET\n",
    " "
   ]
  },
  {
   "cell_type": "code",
   "execution_count": 33,
   "metadata": {},
   "outputs": [
    {
     "name": "stdout",
     "output_type": "stream",
     "text": [
      "Downloading data from https://github.com/qubvel/classification_models/releases/download/0.0.1/resnet50_imagenet_1000_no_top.h5\n",
      "94593024/94592056 [==============================] - 7s 0us/step\n"
     ]
    }
   ],
   "source": [
    "pred_c1 = Unet('resnet50', input_shape=(128, 800, 3), classes=1, activation='sigmoid')\n",
    "pred_c1.compile(optimizer='adam', loss='binary_crossentropy', metrics=[dice_coef,loss_dice_coef])\n",
    "#pred_c1.summary()"
   ]
  },
  {
   "cell_type": "code",
   "execution_count": 34,
   "metadata": {},
   "outputs": [
    {
     "name": "stdout",
     "output_type": "stream",
     "text": [
      "Epoch 1/25\n",
      "23/23 [==============================] - 42s 2s/step - loss: 0.5249 - dice_coef: 0.0253 - loss_dice_coef: 3.6829 - val_loss: 0.9976 - val_dice_coef: 0.0187 - val_loss_dice_coef: 3.9930\n",
      "Epoch 2/25\n",
      "23/23 [==============================] - 17s 747ms/step - loss: 0.1964 - dice_coef: 0.0310 - loss_dice_coef: 3.4886 - val_loss: 0.2413 - val_dice_coef: 0.0338 - val_loss_dice_coef: 3.3926\n",
      "Epoch 3/25\n",
      "23/23 [==============================] - 18s 792ms/step - loss: 0.0983 - dice_coef: 0.0758 - loss_dice_coef: 2.6078 - val_loss: 0.0893 - val_dice_coef: 0.0799 - val_loss_dice_coef: 2.5289\n",
      "Epoch 4/25\n",
      "23/23 [==============================] - 18s 790ms/step - loss: 0.0621 - dice_coef: 0.1443 - loss_dice_coef: 1.9520 - val_loss: 0.0537 - val_dice_coef: 0.1233 - val_loss_dice_coef: 2.0942\n",
      "Epoch 5/25\n",
      "23/23 [==============================] - 18s 794ms/step - loss: 0.0463 - dice_coef: 0.2115 - loss_dice_coef: 1.5598 - val_loss: 0.0452 - val_dice_coef: 0.1497 - val_loss_dice_coef: 1.9009\n",
      "Epoch 6/25\n",
      "23/23 [==============================] - 18s 793ms/step - loss: 0.0367 - dice_coef: 0.2869 - loss_dice_coef: 1.2529 - val_loss: 0.0414 - val_dice_coef: 0.1557 - val_loss_dice_coef: 1.8620\n",
      "Epoch 7/25\n",
      "23/23 [==============================] - 18s 794ms/step - loss: 0.0312 - dice_coef: 0.3414 - loss_dice_coef: 1.0780 - val_loss: 0.0433 - val_dice_coef: 0.1215 - val_loss_dice_coef: 2.1135\n",
      "Epoch 8/25\n",
      "23/23 [==============================] - 19s 808ms/step - loss: 0.0267 - dice_coef: 0.3984 - loss_dice_coef: 0.9213 - val_loss: 0.0456 - val_dice_coef: 0.0870 - val_loss_dice_coef: 2.4490\n",
      "Epoch 9/25\n",
      "23/23 [==============================] - 18s 792ms/step - loss: 0.0237 - dice_coef: 0.4448 - loss_dice_coef: 0.8111 - val_loss: 0.0462 - val_dice_coef: 0.1072 - val_loss_dice_coef: 2.2420\n",
      "Epoch 10/25\n",
      "23/23 [==============================] - 20s 860ms/step - loss: 0.0211 - dice_coef: 0.4867 - loss_dice_coef: 0.7212 - val_loss: 0.0399 - val_dice_coef: 0.1544 - val_loss_dice_coef: 1.8705\n",
      "Epoch 11/25\n",
      "23/23 [==============================] - 18s 786ms/step - loss: 0.0191 - dice_coef: 0.5269 - loss_dice_coef: 0.6418 - val_loss: 0.0474 - val_dice_coef: 0.0807 - val_loss_dice_coef: 2.5260\n",
      "Epoch 12/25\n",
      "23/23 [==============================] - 20s 862ms/step - loss: 0.0177 - dice_coef: 0.5541 - loss_dice_coef: 0.5913 - val_loss: 0.0383 - val_dice_coef: 0.2287 - val_loss_dice_coef: 1.4978\n",
      "Epoch 13/25\n",
      "23/23 [==============================] - 20s 883ms/step - loss: 0.0166 - dice_coef: 0.5770 - loss_dice_coef: 0.5505 - val_loss: 0.0394 - val_dice_coef: 0.2402 - val_loss_dice_coef: 1.4332\n",
      "Epoch 14/25\n",
      "23/23 [==============================] - 20s 879ms/step - loss: 0.0148 - dice_coef: 0.6149 - loss_dice_coef: 0.4867 - val_loss: 0.0437 - val_dice_coef: 0.1794 - val_loss_dice_coef: 1.7264\n",
      "Epoch 15/25\n",
      "23/23 [==============================] - 18s 788ms/step - loss: 0.0138 - dice_coef: 0.6376 - loss_dice_coef: 0.4503 - val_loss: 0.0348 - val_dice_coef: 0.3220 - val_loss_dice_coef: 1.1365\n",
      "Epoch 16/25\n",
      "23/23 [==============================] - 18s 785ms/step - loss: 0.0121 - dice_coef: 0.6749 - loss_dice_coef: 0.3934 - val_loss: 0.0406 - val_dice_coef: 0.2202 - val_loss_dice_coef: 1.5220\n",
      "Epoch 17/25\n",
      "23/23 [==============================] - 20s 857ms/step - loss: 0.0114 - dice_coef: 0.6927 - loss_dice_coef: 0.3673 - val_loss: 0.0318 - val_dice_coef: 0.3942 - val_loss_dice_coef: 0.9319\n",
      "Epoch 18/25\n",
      "23/23 [==============================] - 18s 784ms/step - loss: 0.0105 - dice_coef: 0.7160 - loss_dice_coef: 0.3343 - val_loss: 0.0362 - val_dice_coef: 0.3271 - val_loss_dice_coef: 1.1244\n",
      "Epoch 19/25\n",
      "23/23 [==============================] - 18s 792ms/step - loss: 0.0105 - dice_coef: 0.7192 - loss_dice_coef: 0.3298 - val_loss: 0.0332 - val_dice_coef: 0.3668 - val_loss_dice_coef: 1.0052\n",
      "Epoch 20/25\n",
      "23/23 [==============================] - 20s 869ms/step - loss: 0.0105 - dice_coef: 0.7239 - loss_dice_coef: 0.3242 - val_loss: 0.1658 - val_dice_coef: 1.2515e-04 - val_loss_dice_coef: 9.5113\n",
      "Epoch 21/25\n",
      "23/23 [==============================] - 18s 793ms/step - loss: 0.0121 - dice_coef: 0.6820 - loss_dice_coef: 0.3832 - val_loss: 0.1831 - val_dice_coef: 0.0099 - val_loss_dice_coef: 4.8263\n",
      "Epoch 22/25\n",
      "23/23 [==============================] - 18s 783ms/step - loss: 0.0102 - dice_coef: 0.7278 - loss_dice_coef: 0.3179 - val_loss: 0.0612 - val_dice_coef: 0.3961 - val_loss_dice_coef: 0.9282\n",
      "Epoch 23/25\n",
      "23/23 [==============================] - 20s 876ms/step - loss: 0.0098 - dice_coef: 0.7383 - loss_dice_coef: 0.3036 - val_loss: 0.0299 - val_dice_coef: 0.4584 - val_loss_dice_coef: 0.7807\n",
      "Epoch 24/25\n",
      "23/23 [==============================] - 21s 898ms/step - loss: 0.0084 - dice_coef: 0.7713 - loss_dice_coef: 0.2598 - val_loss: 0.0323 - val_dice_coef: 0.4393 - val_loss_dice_coef: 0.8233\n",
      "Epoch 25/25\n",
      "23/23 [==============================] - 18s 789ms/step - loss: 0.0076 - dice_coef: 0.7916 - loss_dice_coef: 0.2339 - val_loss: 0.0307 - val_dice_coef: 0.4731 - val_loss_dice_coef: 0.7500\n"
     ]
    }
   ],
   "source": [
    "#fit data gen\n",
    "history = pred_c1.fit_generator(\n",
    "    trainc1,\n",
    "    validation_data=valc1,\n",
    "    use_multiprocessing=False,\n",
    "    workers=1,\n",
    "    epochs=25 )"
   ]
  },
  {
   "cell_type": "code",
   "execution_count": 35,
   "metadata": {},
   "outputs": [],
   "source": [
    "pred_c1.save_weights('r50_c1_weights')\n"
   ]
  },
  {
   "cell_type": "code",
   "execution_count": 36,
   "metadata": {},
   "outputs": [
    {
     "name": "stdout",
     "output_type": "stream",
     "text": [
      "Saved model to disk\n"
     ]
    }
   ],
   "source": [
    "pred_c1.save(\"mod_r50_c1.h5\")\n",
    "print(\"Saved model to disk\")"
   ]
  },
  {
   "cell_type": "markdown",
   "metadata": {},
   "source": [
    "### Class2"
   ]
  },
  {
   "cell_type": "code",
   "execution_count": 37,
   "metadata": {},
   "outputs": [],
   "source": [
    "#Load data\n",
    "trainc2,valc2=load(32,c2,nf,dimn=(128,800))\n",
    "pred_c2 = Unet('resnet50', input_shape=(128, 800, 3), classes=1, activation='sigmoid')\n",
    "pred_c2.compile(optimizer='adam', loss='binary_crossentropy', metrics=[dice_coef,loss_dice_coef])\n",
    "#pred_c2.summary()"
   ]
  },
  {
   "cell_type": "code",
   "execution_count": 38,
   "metadata": {},
   "outputs": [
    {
     "name": "stdout",
     "output_type": "stream",
     "text": [
      "Epoch 1/25\n",
      "6/6 [==============================] - 24s 4s/step - loss: 0.6152 - dice_coef: 0.0214 - loss_dice_coef: 3.8484 - val_loss: 1.6163 - val_dice_coef: 0.0218 - val_loss_dice_coef: 3.8254\n",
      "Epoch 2/25\n",
      "6/6 [==============================] - 5s 765ms/step - loss: 0.3633 - dice_coef: 0.0211 - loss_dice_coef: 3.8592 - val_loss: 0.3743 - val_dice_coef: 0.0123 - val_loss_dice_coef: 4.3947\n",
      "Epoch 3/25\n",
      "6/6 [==============================] - 5s 851ms/step - loss: 0.2776 - dice_coef: 0.0203 - loss_dice_coef: 3.8998 - val_loss: 0.2135 - val_dice_coef: 0.0112 - val_loss_dice_coef: 4.4905\n",
      "Epoch 4/25\n",
      "6/6 [==============================] - 5s 829ms/step - loss: 0.2198 - dice_coef: 0.0225 - loss_dice_coef: 3.7963 - val_loss: 0.1961 - val_dice_coef: 0.0166 - val_loss_dice_coef: 4.0992\n",
      "Epoch 5/25\n",
      "6/6 [==============================] - 5s 886ms/step - loss: 0.1779 - dice_coef: 0.0245 - loss_dice_coef: 3.7139 - val_loss: 0.1932 - val_dice_coef: 0.0207 - val_loss_dice_coef: 3.8790\n",
      "Epoch 6/25\n",
      "6/6 [==============================] - 5s 830ms/step - loss: 0.1462 - dice_coef: 0.0278 - loss_dice_coef: 3.5894 - val_loss: 0.1356 - val_dice_coef: 0.0167 - val_loss_dice_coef: 4.0898\n",
      "Epoch 7/25\n",
      "6/6 [==============================] - 5s 864ms/step - loss: 0.1215 - dice_coef: 0.0366 - loss_dice_coef: 3.3351 - val_loss: 0.1069 - val_dice_coef: 0.0151 - val_loss_dice_coef: 4.1957\n",
      "Epoch 8/25\n",
      "6/6 [==============================] - 5s 810ms/step - loss: 0.1017 - dice_coef: 0.0494 - loss_dice_coef: 3.0431 - val_loss: 0.0869 - val_dice_coef: 0.0203 - val_loss_dice_coef: 3.8965\n",
      "Epoch 9/25\n",
      "6/6 [==============================] - 5s 868ms/step - loss: 0.0854 - dice_coef: 0.0654 - loss_dice_coef: 2.7444 - val_loss: 0.0731 - val_dice_coef: 0.0237 - val_loss_dice_coef: 3.7419\n",
      "Epoch 10/25\n",
      "6/6 [==============================] - 5s 819ms/step - loss: 0.0733 - dice_coef: 0.0852 - loss_dice_coef: 2.4729 - val_loss: 0.0669 - val_dice_coef: 0.0282 - val_loss_dice_coef: 3.5682\n",
      "Epoch 11/25\n",
      "6/6 [==============================] - 5s 862ms/step - loss: 0.0652 - dice_coef: 0.1029 - loss_dice_coef: 2.2908 - val_loss: 0.0751 - val_dice_coef: 0.0319 - val_loss_dice_coef: 3.4461\n",
      "Epoch 12/25\n",
      "6/6 [==============================] - 5s 819ms/step - loss: 0.0578 - dice_coef: 0.1187 - loss_dice_coef: 2.1456 - val_loss: 0.0584 - val_dice_coef: 0.0589 - val_loss_dice_coef: 2.8311\n",
      "Epoch 13/25\n",
      "6/6 [==============================] - 5s 853ms/step - loss: 0.0507 - dice_coef: 0.1516 - loss_dice_coef: 1.8872 - val_loss: 0.0506 - val_dice_coef: 0.0551 - val_loss_dice_coef: 2.8990\n",
      "Epoch 14/25\n",
      "6/6 [==============================] - 5s 822ms/step - loss: 0.0456 - dice_coef: 0.1795 - loss_dice_coef: 1.7221 - val_loss: 0.0504 - val_dice_coef: 0.0506 - val_loss_dice_coef: 2.9835\n",
      "Epoch 15/25\n",
      "6/6 [==============================] - 5s 862ms/step - loss: 0.0414 - dice_coef: 0.2137 - loss_dice_coef: 1.5503 - val_loss: 0.0469 - val_dice_coef: 0.0637 - val_loss_dice_coef: 2.7535\n",
      "Epoch 16/25\n",
      "6/6 [==============================] - 5s 810ms/step - loss: 0.0371 - dice_coef: 0.2460 - loss_dice_coef: 1.4038 - val_loss: 0.0490 - val_dice_coef: 0.0638 - val_loss_dice_coef: 2.7523\n",
      "Epoch 17/25\n",
      "6/6 [==============================] - 5s 848ms/step - loss: 0.0340 - dice_coef: 0.2775 - loss_dice_coef: 1.2848 - val_loss: 0.0440 - val_dice_coef: 0.0914 - val_loss_dice_coef: 2.3925\n",
      "Epoch 18/25\n",
      "6/6 [==============================] - 5s 800ms/step - loss: 0.0317 - dice_coef: 0.2993 - loss_dice_coef: 1.2088 - val_loss: 0.0413 - val_dice_coef: 0.1074 - val_loss_dice_coef: 2.2314\n",
      "Epoch 19/25\n",
      "6/6 [==============================] - 5s 843ms/step - loss: 0.0297 - dice_coef: 0.3161 - loss_dice_coef: 1.1583 - val_loss: 0.0390 - val_dice_coef: 0.1173 - val_loss_dice_coef: 2.1429\n",
      "Epoch 20/25\n",
      "6/6 [==============================] - 5s 812ms/step - loss: 0.0267 - dice_coef: 0.3472 - loss_dice_coef: 1.0590 - val_loss: 0.0368 - val_dice_coef: 0.1438 - val_loss_dice_coef: 1.9395\n",
      "Epoch 21/25\n",
      "6/6 [==============================] - 5s 844ms/step - loss: 0.0250 - dice_coef: 0.3733 - loss_dice_coef: 0.9862 - val_loss: 0.0388 - val_dice_coef: 0.1026 - val_loss_dice_coef: 2.2770\n",
      "Epoch 22/25\n",
      "6/6 [==============================] - 5s 813ms/step - loss: 0.0233 - dice_coef: 0.3867 - loss_dice_coef: 0.9507 - val_loss: 0.0356 - val_dice_coef: 0.1592 - val_loss_dice_coef: 1.8377\n",
      "Epoch 23/25\n",
      "6/6 [==============================] - 5s 860ms/step - loss: 0.0216 - dice_coef: 0.4142 - loss_dice_coef: 0.8816 - val_loss: 0.0362 - val_dice_coef: 0.1299 - val_loss_dice_coef: 2.0411\n",
      "Epoch 24/25\n",
      "6/6 [==============================] - 5s 807ms/step - loss: 0.0200 - dice_coef: 0.4359 - loss_dice_coef: 0.8312 - val_loss: 0.0348 - val_dice_coef: 0.1626 - val_loss_dice_coef: 1.8166\n",
      "Epoch 25/25\n",
      "6/6 [==============================] - 5s 842ms/step - loss: 0.0188 - dice_coef: 0.4543 - loss_dice_coef: 0.7898 - val_loss: 0.0326 - val_dice_coef: 0.1764 - val_loss_dice_coef: 1.7351\n"
     ]
    }
   ],
   "source": [
    "#fit data gen\n",
    "history2 = pred_c2.fit_generator(\n",
    "    trainc2,\n",
    "    validation_data=valc2,\n",
    "    use_multiprocessing=False,\n",
    "    workers=1,\n",
    "    epochs=25)"
   ]
  },
  {
   "cell_type": "code",
   "execution_count": 39,
   "metadata": {},
   "outputs": [],
   "source": [
    "pred_c2.save_weights('r50_c2_weights')\n"
   ]
  },
  {
   "cell_type": "code",
   "execution_count": 40,
   "metadata": {},
   "outputs": [
    {
     "name": "stdout",
     "output_type": "stream",
     "text": [
      "Saved model to disk\n"
     ]
    }
   ],
   "source": [
    "\n",
    "pred_c2.save(\"mod_r50_c2.h5\")\n",
    "print(\"Saved model to disk\")"
   ]
  },
  {
   "cell_type": "markdown",
   "metadata": {},
   "source": [
    "### Class3"
   ]
  },
  {
   "cell_type": "code",
   "execution_count": 41,
   "metadata": {},
   "outputs": [],
   "source": [
    "#Load data\n",
    "trainc3,valc3=load(8,c3,nf,dimn=(128,800))\n",
    "pred_c3 = Unet('resnet50', input_shape=(128, 800, 3), classes=1, activation='sigmoid')\n",
    "pred_c3.compile(optimizer='adam', loss='binary_crossentropy', metrics=[dice_coef,loss_dice_coef])\n",
    "#pred_c3.summary()\n"
   ]
  },
  {
   "cell_type": "code",
   "execution_count": 42,
   "metadata": {},
   "outputs": [
    {
     "name": "stdout",
     "output_type": "stream",
     "text": [
      "Epoch 1/30\n",
      "547/547 [==============================] - 156s 284ms/step - loss: 0.1406 - dice_coef: 0.4088 - loss_dice_coef: 0.9511 - val_loss: 0.1535 - val_dice_coef: 0.4166 - val_loss_dice_coef: 0.9043\n",
      "Epoch 2/30\n",
      "547/547 [==============================] - 135s 247ms/step - loss: 0.1097 - dice_coef: 0.4993 - loss_dice_coef: 0.7074 - val_loss: 0.1051 - val_dice_coef: 0.5076 - val_loss_dice_coef: 0.6924\n",
      "Epoch 3/30\n",
      "547/547 [==============================] - 137s 250ms/step - loss: 0.1028 - dice_coef: 0.5273 - loss_dice_coef: 0.6524 - val_loss: 0.7851 - val_dice_coef: 0.2909 - val_loss_dice_coef: 1.3274\n",
      "Epoch 4/30\n",
      "547/547 [==============================] - 135s 248ms/step - loss: 0.0987 - dice_coef: 0.5423 - loss_dice_coef: 0.6227 - val_loss: 0.1026 - val_dice_coef: 0.5056 - val_loss_dice_coef: 0.6991\n",
      "Epoch 5/30\n",
      "547/547 [==============================] - 137s 250ms/step - loss: 0.0962 - dice_coef: 0.5551 - loss_dice_coef: 0.5995 - val_loss: 0.0993 - val_dice_coef: 0.5639 - val_loss_dice_coef: 0.5827\n",
      "Epoch 6/30\n",
      "547/547 [==============================] - 135s 246ms/step - loss: 0.0905 - dice_coef: 0.5772 - loss_dice_coef: 0.5588 - val_loss: 0.0936 - val_dice_coef: 0.5932 - val_loss_dice_coef: 0.5339\n",
      "Epoch 7/30\n",
      "547/547 [==============================] - 135s 246ms/step - loss: 0.0892 - dice_coef: 0.5843 - loss_dice_coef: 0.5455 - val_loss: 0.0869 - val_dice_coef: 0.5824 - val_loss_dice_coef: 0.5492\n",
      "Epoch 8/30\n",
      "547/547 [==============================] - 135s 246ms/step - loss: 0.0862 - dice_coef: 0.5962 - loss_dice_coef: 0.5252 - val_loss: 0.0897 - val_dice_coef: 0.5857 - val_loss_dice_coef: 0.5443\n",
      "Epoch 9/30\n",
      "547/547 [==============================] - 136s 249ms/step - loss: 0.0843 - dice_coef: 0.6021 - loss_dice_coef: 0.5164 - val_loss: 0.0968 - val_dice_coef: 0.5367 - val_loss_dice_coef: 0.6341\n",
      "Epoch 10/30\n",
      "547/547 [==============================] - 135s 246ms/step - loss: 0.0812 - dice_coef: 0.6151 - loss_dice_coef: 0.4943 - val_loss: 0.0877 - val_dice_coef: 0.6028 - val_loss_dice_coef: 0.5161\n",
      "Epoch 11/30\n",
      "  1/547 [..............................] - ETA: 2:02 - loss: 0.0617 - dice_coef: 0.5749 - loss_dice_coef: 0.5536"
     ]
    }
   ],
   "source": [
    "#fit data gen\n",
    "history3 = pred_c3.fit_generator(\n",
    "    trainc3,\n",
    "    validation_data=valc3,\n",
    "    use_multiprocessing=False,\n",
    "    workers=1,\n",
    "    epochs=30 )"
   ]
  },
  {
   "cell_type": "code",
   "execution_count": 43,
   "metadata": {},
   "outputs": [],
   "source": [
    "pred_c3.save_weights('r50_c3_weights')"
   ]
  },
  {
   "cell_type": "code",
   "execution_count": 44,
   "metadata": {},
   "outputs": [
    {
     "name": "stdout",
     "output_type": "stream",
     "text": [
      "Saved model to disk\n"
     ]
    }
   ],
   "source": [
    "\n",
    "pred_c3.save(\"mod_r50_c3.h5\")\n",
    "print(\"Saved model to disk\")"
   ]
  },
  {
   "cell_type": "markdown",
   "metadata": {},
   "source": [
    "### Class4"
   ]
  },
  {
   "cell_type": "code",
   "execution_count": 45,
   "metadata": {},
   "outputs": [],
   "source": [
    "#Load data\n",
    "trainc4,valc4=load(32,c4,nf,dimn=(128,800))\n",
    "pred_c4 = Unet('resnet50', input_shape=(128, 800, 3), classes=1, activation='sigmoid')\n",
    "pred_c4.compile(optimizer='adam', loss='binary_crossentropy', metrics=[dice_coef,loss_dice_coef])\n",
    "#pred_c4.summary()"
   ]
  },
  {
   "cell_type": "code",
   "execution_count": 46,
   "metadata": {},
   "outputs": [
    {
     "name": "stdout",
     "output_type": "stream",
     "text": [
      "Epoch 1/30\n",
      "21/21 [==============================] - 43s 2s/step - loss: 0.4461 - dice_coef: 0.2571 - loss_dice_coef: 1.3783 - val_loss: 0.8721 - val_dice_coef: 0.2592 - val_loss_dice_coef: 1.3533\n",
      "Epoch 2/30\n",
      "21/21 [==============================] - 16s 759ms/step - loss: 0.2354 - dice_coef: 0.3740 - loss_dice_coef: 0.9875 - val_loss: 0.9419 - val_dice_coef: 0.3371 - val_loss_dice_coef: 1.0896\n",
      "Epoch 3/30\n",
      "21/21 [==============================] - 18s 860ms/step - loss: 0.1577 - dice_coef: 0.4769 - loss_dice_coef: 0.7425 - val_loss: 0.1671 - val_dice_coef: 0.5048 - val_loss_dice_coef: 0.6870\n",
      "Epoch 4/30\n",
      "21/21 [==============================] - 17s 833ms/step - loss: 0.1191 - dice_coef: 0.5708 - loss_dice_coef: 0.5625 - val_loss: 0.1589 - val_dice_coef: 0.5420 - val_loss_dice_coef: 0.6170\n",
      "Epoch 5/30\n",
      "21/21 [==============================] - 17s 833ms/step - loss: 0.0961 - dice_coef: 0.6430 - loss_dice_coef: 0.4423 - val_loss: 0.1625 - val_dice_coef: 0.5936 - val_loss_dice_coef: 0.5232\n",
      "Epoch 6/30\n",
      "21/21 [==============================] - 17s 793ms/step - loss: 0.0853 - dice_coef: 0.6839 - loss_dice_coef: 0.3802 - val_loss: 0.1641 - val_dice_coef: 0.6163 - val_loss_dice_coef: 0.4868\n",
      "Epoch 7/30\n",
      "21/21 [==============================] - 17s 827ms/step - loss: 0.0760 - dice_coef: 0.7171 - loss_dice_coef: 0.3330 - val_loss: 0.1424 - val_dice_coef: 0.5742 - val_loss_dice_coef: 0.5576\n",
      "Epoch 8/30\n",
      "21/21 [==============================] - 17s 789ms/step - loss: 0.0651 - dice_coef: 0.7586 - loss_dice_coef: 0.2764 - val_loss: 0.2049 - val_dice_coef: 0.4569 - val_loss_dice_coef: 0.7884\n",
      "Epoch 9/30\n",
      "21/21 [==============================] - 17s 831ms/step - loss: 0.0613 - dice_coef: 0.7721 - loss_dice_coef: 0.2588 - val_loss: 0.1698 - val_dice_coef: 0.6043 - val_loss_dice_coef: 0.5068\n",
      "Epoch 10/30\n",
      "21/21 [==============================] - 17s 798ms/step - loss: 0.0574 - dice_coef: 0.7888 - loss_dice_coef: 0.2374 - val_loss: 0.1644 - val_dice_coef: 0.6418 - val_loss_dice_coef: 0.4462\n",
      "Epoch 11/30\n",
      "21/21 [==============================] - 17s 832ms/step - loss: 0.0543 - dice_coef: 0.8008 - loss_dice_coef: 0.2223 - val_loss: 0.1602 - val_dice_coef: 0.6876 - val_loss_dice_coef: 0.3764\n",
      "Epoch 12/30\n",
      "21/21 [==============================] - 17s 790ms/step - loss: 0.0485 - dice_coef: 0.8197 - loss_dice_coef: 0.1990 - val_loss: 0.1571 - val_dice_coef: 0.6591 - val_loss_dice_coef: 0.4202\n",
      "Epoch 13/30\n",
      "21/21 [==============================] - 17s 826ms/step - loss: 0.0449 - dice_coef: 0.8341 - loss_dice_coef: 0.1815 - val_loss: 0.2034 - val_dice_coef: 0.5730 - val_loss_dice_coef: 0.5656\n",
      "Epoch 14/30\n",
      "21/21 [==============================] - 17s 798ms/step - loss: 0.0409 - dice_coef: 0.8486 - loss_dice_coef: 0.1643 - val_loss: 0.1650 - val_dice_coef: 0.6781 - val_loss_dice_coef: 0.3915\n",
      "Epoch 15/30\n",
      "21/21 [==============================] - 17s 830ms/step - loss: 0.0378 - dice_coef: 0.8600 - loss_dice_coef: 0.1509 - val_loss: 0.2167 - val_dice_coef: 0.6030 - val_loss_dice_coef: 0.5133\n",
      "Epoch 16/30\n",
      "21/21 [==============================] - 17s 799ms/step - loss: 0.0347 - dice_coef: 0.8716 - loss_dice_coef: 0.1375 - val_loss: 0.1549 - val_dice_coef: 0.7227 - val_loss_dice_coef: 0.3263\n",
      "Epoch 17/30\n",
      "21/21 [==============================] - 17s 830ms/step - loss: 0.0330 - dice_coef: 0.8782 - loss_dice_coef: 0.1299 - val_loss: 0.1490 - val_dice_coef: 0.7390 - val_loss_dice_coef: 0.3037\n",
      "Epoch 18/30\n",
      "21/21 [==============================] - 17s 797ms/step - loss: 0.0317 - dice_coef: 0.8835 - loss_dice_coef: 0.1240 - val_loss: 0.1594 - val_dice_coef: 0.7543 - val_loss_dice_coef: 0.2831\n",
      "Epoch 19/30\n",
      "21/21 [==============================] - 17s 826ms/step - loss: 0.0305 - dice_coef: 0.8873 - loss_dice_coef: 0.1197 - val_loss: 0.1699 - val_dice_coef: 0.7132 - val_loss_dice_coef: 0.3398\n",
      "Epoch 20/30\n",
      "21/21 [==============================] - 17s 798ms/step - loss: 0.0280 - dice_coef: 0.8971 - loss_dice_coef: 0.1086 - val_loss: 0.1685 - val_dice_coef: 0.7197 - val_loss_dice_coef: 0.3315\n",
      "Epoch 21/30\n",
      "21/21 [==============================] - 18s 834ms/step - loss: 0.0264 - dice_coef: 0.9030 - loss_dice_coef: 0.1021 - val_loss: 0.1687 - val_dice_coef: 0.7359 - val_loss_dice_coef: 0.3091\n",
      "Epoch 22/30\n",
      "21/21 [==============================] - 17s 795ms/step - loss: 0.0244 - dice_coef: 0.9099 - loss_dice_coef: 0.0945 - val_loss: 0.1683 - val_dice_coef: 0.7286 - val_loss_dice_coef: 0.3187\n",
      "Epoch 23/30\n",
      "21/21 [==============================] - 17s 826ms/step - loss: 0.0236 - dice_coef: 0.9133 - loss_dice_coef: 0.0908 - val_loss: 0.2145 - val_dice_coef: 0.6844 - val_loss_dice_coef: 0.3823\n",
      "Epoch 24/30\n",
      "21/21 [==============================] - 17s 791ms/step - loss: 0.0221 - dice_coef: 0.9183 - loss_dice_coef: 0.0852 - val_loss: 0.1888 - val_dice_coef: 0.7091 - val_loss_dice_coef: 0.3456\n",
      "Epoch 25/30\n",
      "21/21 [==============================] - 17s 824ms/step - loss: 0.0204 - dice_coef: 0.9245 - loss_dice_coef: 0.0786 - val_loss: 0.1834 - val_dice_coef: 0.7218 - val_loss_dice_coef: 0.3285\n",
      "Epoch 26/30\n",
      "21/21 [==============================] - 17s 801ms/step - loss: 0.0193 - dice_coef: 0.9291 - loss_dice_coef: 0.0736 - val_loss: 0.1907 - val_dice_coef: 0.7218 - val_loss_dice_coef: 0.3281\n",
      "Epoch 27/30\n",
      "21/21 [==============================] - 17s 831ms/step - loss: 0.0206 - dice_coef: 0.9252 - loss_dice_coef: 0.0778 - val_loss: 0.2066 - val_dice_coef: 0.7015 - val_loss_dice_coef: 0.3572\n",
      "Epoch 28/30\n",
      "21/21 [==============================] - 17s 798ms/step - loss: 0.0197 - dice_coef: 0.9276 - loss_dice_coef: 0.0751 - val_loss: 0.1723 - val_dice_coef: 0.7483 - val_loss_dice_coef: 0.2914\n",
      "Epoch 29/30\n",
      "21/21 [==============================] - 17s 827ms/step - loss: 0.0193 - dice_coef: 0.9299 - loss_dice_coef: 0.0727 - val_loss: 0.2331 - val_dice_coef: 0.6925 - val_loss_dice_coef: 0.3702\n",
      "Epoch 30/30\n",
      "21/21 [==============================] - 17s 791ms/step - loss: 0.0184 - dice_coef: 0.9325 - loss_dice_coef: 0.0700 - val_loss: 0.1949 - val_dice_coef: 0.7452 - val_loss_dice_coef: 0.2961\n"
     ]
    }
   ],
   "source": [
    "#fit data gen\n",
    "history4 = pred_c4.fit_generator(\n",
    "    trainc4,\n",
    "    validation_data=valc4,\n",
    "    use_multiprocessing=False,\n",
    "    workers=1,\n",
    "    epochs=30)"
   ]
  },
  {
   "cell_type": "code",
   "execution_count": 47,
   "metadata": {},
   "outputs": [],
   "source": [
    "pred_c4.save_weights('r50_c4_weights')\n"
   ]
  },
  {
   "cell_type": "code",
   "execution_count": 48,
   "metadata": {},
   "outputs": [
    {
     "name": "stdout",
     "output_type": "stream",
     "text": [
      "Saved model to disk\n"
     ]
    }
   ],
   "source": [
    "pred_c4.save(\"mod_r50_c4.h5\")\n",
    "print(\"Saved model to disk\")"
   ]
  },
  {
   "cell_type": "code",
   "execution_count": null,
   "metadata": {},
   "outputs": [],
   "source": []
  }
 ],
 "metadata": {
  "kernelspec": {
   "display_name": "Python 3",
   "language": "python",
   "name": "python3"
  },
  "language_info": {
   "codemirror_mode": {
    "name": "ipython",
    "version": 3
   },
   "file_extension": ".py",
   "mimetype": "text/x-python",
   "name": "python",
   "nbconvert_exporter": "python",
   "pygments_lexer": "ipython3",
   "version": "3.6.6"
  }
 },
 "nbformat": 4,
 "nbformat_minor": 1
}
